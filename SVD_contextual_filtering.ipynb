{
  "nbformat": 4,
  "nbformat_minor": 0,
  "metadata": {
    "colab": {
      "name": "SVD_contextual_filtering.ipynb",
      "provenance": [],
      "collapsed_sections": []
    },
    "kernelspec": {
      "display_name": "Python 3",
      "name": "python3"
    }
  },
  "cells": [
    {
      "cell_type": "markdown",
      "metadata": {
        "id": "e_azfvLxRWJ0"
      },
      "source": [
        "## Read Data"
      ]
    },
    {
      "cell_type": "code",
      "metadata": {
        "colab": {
          "base_uri": "https://localhost:8080/"
        },
        "id": "wSQAPjug4Aaf",
        "outputId": "e3500ff4-7239-4b4f-a8ed-e70065788121"
      },
      "source": [
        "# Load the Drive helper and mount\n",
        "from google.colab import drive\n",
        "\n",
        "# This will prompt for authorization.\n",
        "drive.mount('/content/drive')"
      ],
      "execution_count": 1,
      "outputs": [
        {
          "output_type": "stream",
          "text": [
            "Drive already mounted at /content/drive; to attempt to forcibly remount, call drive.mount(\"/content/drive\", force_remount=True).\n"
          ],
          "name": "stdout"
        }
      ]
    },
    {
      "cell_type": "code",
      "metadata": {
        "colab": {
          "base_uri": "https://localhost:8080/"
        },
        "id": "SKH9Y6by4DN-",
        "outputId": "85ed9635-6b68-4d28-f5e0-8c9848dea2d0"
      },
      "source": [
        "cd /content/drive/'My Drive'/'SearchAndDiscoveryData'"
      ],
      "execution_count": 2,
      "outputs": [
        {
          "output_type": "stream",
          "text": [
            "/content/drive/My Drive/SearchAndDiscoveryData\n"
          ],
          "name": "stdout"
        }
      ]
    },
    {
      "cell_type": "markdown",
      "metadata": {
        "id": "dqUogYrkRdes"
      },
      "source": [
        "## Imports"
      ]
    },
    {
      "cell_type": "code",
      "metadata": {
        "colab": {
          "base_uri": "https://localhost:8080/"
        },
        "id": "gwJH3B7hd-27",
        "outputId": "0a618010-1046-422d-d621-825e6314786b"
      },
      "source": [
        "#!/usr/bin/env python\n",
        "!pip install surprise\n",
        "!pip install lenskit\n",
        "import pandas as pd\n",
        "from surprise import SVD, SVDpp\n",
        "from surprise import Dataset\n",
        "from surprise import accuracy\n",
        "from surprise.model_selection import train_test_split\n",
        "from surprise import KNNBasic,  KNNWithMeans, KNNBaseline\n",
        "from surprise.model_selection import KFold, PredefinedKFold, GridSearchCV\n",
        "from surprise import Reader\n",
        "from lenskit.crossfold import partition_users, SampleFrac\n",
        "import matplotlib.pyplot as plt\n",
        "import seaborn as sns\n",
        "from collections import defaultdict"
      ],
      "execution_count": 3,
      "outputs": [
        {
          "output_type": "stream",
          "text": [
            "Requirement already satisfied: surprise in /usr/local/lib/python3.6/dist-packages (0.1)\n",
            "Requirement already satisfied: scikit-surprise in /usr/local/lib/python3.6/dist-packages (from surprise) (1.1.1)\n",
            "Requirement already satisfied: joblib>=0.11 in /usr/local/lib/python3.6/dist-packages (from scikit-surprise->surprise) (0.17.0)\n",
            "Requirement already satisfied: numpy>=1.11.2 in /usr/local/lib/python3.6/dist-packages (from scikit-surprise->surprise) (1.18.5)\n",
            "Requirement already satisfied: scipy>=1.0.0 in /usr/local/lib/python3.6/dist-packages (from scikit-surprise->surprise) (1.4.1)\n",
            "Requirement already satisfied: six>=1.10.0 in /usr/local/lib/python3.6/dist-packages (from scikit-surprise->surprise) (1.15.0)\n",
            "Requirement already satisfied: lenskit in /usr/local/lib/python3.6/dist-packages (0.11.1)\n",
            "Requirement already satisfied: numba<0.52,>=0.45 in /usr/local/lib/python3.6/dist-packages (from lenskit) (0.48.0)\n",
            "Requirement already satisfied: pyarrow>=0.15 in /usr/local/lib/python3.6/dist-packages (from lenskit) (2.0.0)\n",
            "Requirement already satisfied: numpy>=1.16 in /usr/local/lib/python3.6/dist-packages (from lenskit) (1.18.5)\n",
            "Requirement already satisfied: cffi>=1.12.2 in /usr/local/lib/python3.6/dist-packages (from lenskit) (1.14.4)\n",
            "Requirement already satisfied: binpickle>=0.3.2 in /usr/local/lib/python3.6/dist-packages (from lenskit) (0.3.2)\n",
            "Requirement already satisfied: scipy>=1.2 in /usr/local/lib/python3.6/dist-packages (from lenskit) (1.4.1)\n",
            "Requirement already satisfied: pandas>=0.24 in /usr/local/lib/python3.6/dist-packages (from lenskit) (1.1.5)\n",
            "Requirement already satisfied: llvmlite<0.32.0,>=0.31.0dev0 in /usr/local/lib/python3.6/dist-packages (from numba<0.52,>=0.45->lenskit) (0.31.0)\n",
            "Requirement already satisfied: setuptools in /usr/local/lib/python3.6/dist-packages (from numba<0.52,>=0.45->lenskit) (50.3.2)\n",
            "Requirement already satisfied: pycparser in /usr/local/lib/python3.6/dist-packages (from cffi>=1.12.2->lenskit) (2.20)\n",
            "Requirement already satisfied: pickle5; python_version < \"3.8\" in /usr/local/lib/python3.6/dist-packages (from binpickle>=0.3.2->lenskit) (0.0.11)\n",
            "Requirement already satisfied: msgpack>=1.0 in /usr/local/lib/python3.6/dist-packages (from binpickle>=0.3.2->lenskit) (1.0.0)\n",
            "Requirement already satisfied: python-dateutil>=2.7.3 in /usr/local/lib/python3.6/dist-packages (from pandas>=0.24->lenskit) (2.8.1)\n",
            "Requirement already satisfied: pytz>=2017.2 in /usr/local/lib/python3.6/dist-packages (from pandas>=0.24->lenskit) (2018.9)\n",
            "Requirement already satisfied: six>=1.5 in /usr/local/lib/python3.6/dist-packages (from python-dateutil>=2.7.3->pandas>=0.24->lenskit) (1.15.0)\n"
          ],
          "name": "stdout"
        }
      ]
    },
    {
      "cell_type": "markdown",
      "metadata": {
        "id": "FDSueVXsSJo9"
      },
      "source": [
        "## Read and filter data"
      ]
    },
    {
      "cell_type": "markdown",
      "metadata": {
        "id": "A2AUaAwZvpzI"
      },
      "source": [
        "### The data has columns for the number of friends of a user, and whether a restaurant is good for groups.\r\n",
        "\r\n",
        "### Hypothesis: Restaurants that are rated good for groups will be visited by users with number of friends > 5.\r\n",
        "\r\n",
        "### Procedure:\r\n",
        "1. We carry out user-based train-test splitting.\r\n",
        "2. We pre-filter the train set based on ```RestaurantsGoodForGroups==True``` to only include restaurants which are rated to be good for groups (might have larger seating).\r\n",
        "3. Train SVD and SVD++ models on this filtered training set - carry out hyperparameter optimization using grid search.\r\n",
        "4. Filter the test set to only include users with number of ``` friends > 5 ```\r\n",
        "5. Report MAE, RMSE, Precision and Recall on the filtered test subset."
      ]
    },
    {
      "cell_type": "code",
      "metadata": {
        "colab": {
          "base_uri": "https://localhost:8080/"
        },
        "id": "6pkzl93Be3vn",
        "outputId": "731d6b7f-5740-4f32-db71-2b3ae74e9803"
      },
      "source": [
        "df = pd.read_csv('contextual_data.csv')"
      ],
      "execution_count": 4,
      "outputs": [
        {
          "output_type": "stream",
          "text": [
            "/usr/local/lib/python3.6/dist-packages/IPython/core/interactiveshell.py:2718: DtypeWarning: Columns (8,9,11,15,17,22) have mixed types.Specify dtype option on import or set low_memory=False.\n",
            "  interactivity=interactivity, compiler=compiler, result=result)\n"
          ],
          "name": "stderr"
        }
      ]
    },
    {
      "cell_type": "code",
      "metadata": {
        "colab": {
          "base_uri": "https://localhost:8080/",
          "height": 249
        },
        "id": "d1ByvI-2FvCJ",
        "outputId": "c0cce044-ae2c-46f9-8baf-5d877af3cd4f"
      },
      "source": [
        "df.head()"
      ],
      "execution_count": 5,
      "outputs": [
        {
          "output_type": "execute_result",
          "data": {
            "text/html": [
              "<div>\n",
              "<style scoped>\n",
              "    .dataframe tbody tr th:only-of-type {\n",
              "        vertical-align: middle;\n",
              "    }\n",
              "\n",
              "    .dataframe tbody tr th {\n",
              "        vertical-align: top;\n",
              "    }\n",
              "\n",
              "    .dataframe thead th {\n",
              "        text-align: right;\n",
              "    }\n",
              "</style>\n",
              "<table border=\"1\" class=\"dataframe\">\n",
              "  <thead>\n",
              "    <tr style=\"text-align: right;\">\n",
              "      <th></th>\n",
              "      <th>Unnamed: 0</th>\n",
              "      <th>business_id</th>\n",
              "      <th>review_id</th>\n",
              "      <th>user_id</th>\n",
              "      <th>Friends</th>\n",
              "      <th>Restaurant Name</th>\n",
              "      <th>Rating</th>\n",
              "      <th>GoodForKids</th>\n",
              "      <th>BikeParking</th>\n",
              "      <th>RestaurantsPriceRange2</th>\n",
              "      <th>WiFi</th>\n",
              "      <th>RestaurantsGoodForGroups</th>\n",
              "      <th>RestaurantsAttire</th>\n",
              "      <th>RestaurantsTakeOut</th>\n",
              "      <th>Alcohol</th>\n",
              "      <th>OutdoorSeating</th>\n",
              "      <th>NoiseLevel</th>\n",
              "      <th>HasTV</th>\n",
              "      <th>romantic</th>\n",
              "      <th>intimate</th>\n",
              "      <th>classy</th>\n",
              "      <th>upscale</th>\n",
              "      <th>casual</th>\n",
              "    </tr>\n",
              "  </thead>\n",
              "  <tbody>\n",
              "    <tr>\n",
              "      <th>0</th>\n",
              "      <td>0</td>\n",
              "      <td>J8GuDrqeLH1xMpSpeEixYA</td>\n",
              "      <td>G1rbhEyMUVnFIq1kAT8jCg</td>\n",
              "      <td>nIJD_7ZXHq-FX8byPMOkMQ</td>\n",
              "      <td>25</td>\n",
              "      <td>Biscuits</td>\n",
              "      <td>2.0</td>\n",
              "      <td>True</td>\n",
              "      <td>True</td>\n",
              "      <td>1</td>\n",
              "      <td>no</td>\n",
              "      <td>True</td>\n",
              "      <td>casual</td>\n",
              "      <td>True</td>\n",
              "      <td>None</td>\n",
              "      <td>False</td>\n",
              "      <td>average</td>\n",
              "      <td>False</td>\n",
              "      <td>False</td>\n",
              "      <td>False</td>\n",
              "      <td>False</td>\n",
              "      <td>False</td>\n",
              "      <td>True</td>\n",
              "    </tr>\n",
              "    <tr>\n",
              "      <th>1</th>\n",
              "      <td>1</td>\n",
              "      <td>J8GuDrqeLH1xMpSpeEixYA</td>\n",
              "      <td>OtH9uCUr5e2Kz12F1LboXA</td>\n",
              "      <td>pu_AQig2fw40PshvtgONPQ</td>\n",
              "      <td>425</td>\n",
              "      <td>Biscuits</td>\n",
              "      <td>2.0</td>\n",
              "      <td>True</td>\n",
              "      <td>True</td>\n",
              "      <td>1</td>\n",
              "      <td>no</td>\n",
              "      <td>True</td>\n",
              "      <td>casual</td>\n",
              "      <td>True</td>\n",
              "      <td>None</td>\n",
              "      <td>False</td>\n",
              "      <td>average</td>\n",
              "      <td>False</td>\n",
              "      <td>False</td>\n",
              "      <td>False</td>\n",
              "      <td>False</td>\n",
              "      <td>False</td>\n",
              "      <td>True</td>\n",
              "    </tr>\n",
              "    <tr>\n",
              "      <th>2</th>\n",
              "      <td>2</td>\n",
              "      <td>J8GuDrqeLH1xMpSpeEixYA</td>\n",
              "      <td>UcQhHkWR8YfIOWeLzjflNA</td>\n",
              "      <td>xUhKi3p2BRTEbTHtJz-Hhg</td>\n",
              "      <td>14</td>\n",
              "      <td>Biscuits</td>\n",
              "      <td>4.0</td>\n",
              "      <td>True</td>\n",
              "      <td>True</td>\n",
              "      <td>1</td>\n",
              "      <td>no</td>\n",
              "      <td>True</td>\n",
              "      <td>casual</td>\n",
              "      <td>True</td>\n",
              "      <td>None</td>\n",
              "      <td>False</td>\n",
              "      <td>average</td>\n",
              "      <td>False</td>\n",
              "      <td>False</td>\n",
              "      <td>False</td>\n",
              "      <td>False</td>\n",
              "      <td>False</td>\n",
              "      <td>True</td>\n",
              "    </tr>\n",
              "    <tr>\n",
              "      <th>3</th>\n",
              "      <td>3</td>\n",
              "      <td>J8GuDrqeLH1xMpSpeEixYA</td>\n",
              "      <td>IJj3by6GI9jV8d5wI46Taw</td>\n",
              "      <td>Vv1jaDcK9fdaqGwODB0AcA</td>\n",
              "      <td>20</td>\n",
              "      <td>Biscuits</td>\n",
              "      <td>3.0</td>\n",
              "      <td>True</td>\n",
              "      <td>True</td>\n",
              "      <td>1</td>\n",
              "      <td>no</td>\n",
              "      <td>True</td>\n",
              "      <td>casual</td>\n",
              "      <td>True</td>\n",
              "      <td>None</td>\n",
              "      <td>False</td>\n",
              "      <td>average</td>\n",
              "      <td>False</td>\n",
              "      <td>False</td>\n",
              "      <td>False</td>\n",
              "      <td>False</td>\n",
              "      <td>False</td>\n",
              "      <td>True</td>\n",
              "    </tr>\n",
              "    <tr>\n",
              "      <th>4</th>\n",
              "      <td>4</td>\n",
              "      <td>J8GuDrqeLH1xMpSpeEixYA</td>\n",
              "      <td>ynCKeNNCL76ws3W3AtbAKQ</td>\n",
              "      <td>ZefHQwjj3b7mxi46oKik-g</td>\n",
              "      <td>330</td>\n",
              "      <td>Biscuits</td>\n",
              "      <td>3.0</td>\n",
              "      <td>True</td>\n",
              "      <td>True</td>\n",
              "      <td>1</td>\n",
              "      <td>no</td>\n",
              "      <td>True</td>\n",
              "      <td>casual</td>\n",
              "      <td>True</td>\n",
              "      <td>None</td>\n",
              "      <td>False</td>\n",
              "      <td>average</td>\n",
              "      <td>False</td>\n",
              "      <td>False</td>\n",
              "      <td>False</td>\n",
              "      <td>False</td>\n",
              "      <td>False</td>\n",
              "      <td>True</td>\n",
              "    </tr>\n",
              "  </tbody>\n",
              "</table>\n",
              "</div>"
            ],
            "text/plain": [
              "   Unnamed: 0             business_id  ... upscale casual\n",
              "0           0  J8GuDrqeLH1xMpSpeEixYA  ...   False   True\n",
              "1           1  J8GuDrqeLH1xMpSpeEixYA  ...   False   True\n",
              "2           2  J8GuDrqeLH1xMpSpeEixYA  ...   False   True\n",
              "3           3  J8GuDrqeLH1xMpSpeEixYA  ...   False   True\n",
              "4           4  J8GuDrqeLH1xMpSpeEixYA  ...   False   True\n",
              "\n",
              "[5 rows x 23 columns]"
            ]
          },
          "metadata": {
            "tags": []
          },
          "execution_count": 5
        }
      ]
    },
    {
      "cell_type": "code",
      "metadata": {
        "colab": {
          "base_uri": "https://localhost:8080/",
          "height": 418
        },
        "id": "-tkNn6cQe8nv",
        "outputId": "29b9b2f1-f56c-4a0a-c53c-fcbd3a9a49f1"
      },
      "source": [
        "df_consolidated = df[['review_id','user_id','business_id','Restaurant Name','Rating', 'Friends', 'RestaurantsGoodForGroups']]\n",
        "df_consolidated.columns = ['review_id','user','item','Restaurant Name', 'rating', 'Friends', 'RestaurantsGoodForGroups']\n",
        "print(df_consolidated.shape)\n",
        "# df_consolidated = df_consolidated[df_consolidated['RestaurantsGoodForGroups']==True]\n",
        "# print(df_consolidated.shape)\n",
        "df_consolidated"
      ],
      "execution_count": 6,
      "outputs": [
        {
          "output_type": "stream",
          "text": [
            "(213378, 7)\n"
          ],
          "name": "stdout"
        },
        {
          "output_type": "execute_result",
          "data": {
            "text/html": [
              "<div>\n",
              "<style scoped>\n",
              "    .dataframe tbody tr th:only-of-type {\n",
              "        vertical-align: middle;\n",
              "    }\n",
              "\n",
              "    .dataframe tbody tr th {\n",
              "        vertical-align: top;\n",
              "    }\n",
              "\n",
              "    .dataframe thead th {\n",
              "        text-align: right;\n",
              "    }\n",
              "</style>\n",
              "<table border=\"1\" class=\"dataframe\">\n",
              "  <thead>\n",
              "    <tr style=\"text-align: right;\">\n",
              "      <th></th>\n",
              "      <th>review_id</th>\n",
              "      <th>user</th>\n",
              "      <th>item</th>\n",
              "      <th>Restaurant Name</th>\n",
              "      <th>rating</th>\n",
              "      <th>Friends</th>\n",
              "      <th>RestaurantsGoodForGroups</th>\n",
              "    </tr>\n",
              "  </thead>\n",
              "  <tbody>\n",
              "    <tr>\n",
              "      <th>0</th>\n",
              "      <td>G1rbhEyMUVnFIq1kAT8jCg</td>\n",
              "      <td>nIJD_7ZXHq-FX8byPMOkMQ</td>\n",
              "      <td>J8GuDrqeLH1xMpSpeEixYA</td>\n",
              "      <td>Biscuits</td>\n",
              "      <td>2.0</td>\n",
              "      <td>25</td>\n",
              "      <td>True</td>\n",
              "    </tr>\n",
              "    <tr>\n",
              "      <th>1</th>\n",
              "      <td>OtH9uCUr5e2Kz12F1LboXA</td>\n",
              "      <td>pu_AQig2fw40PshvtgONPQ</td>\n",
              "      <td>J8GuDrqeLH1xMpSpeEixYA</td>\n",
              "      <td>Biscuits</td>\n",
              "      <td>2.0</td>\n",
              "      <td>425</td>\n",
              "      <td>True</td>\n",
              "    </tr>\n",
              "    <tr>\n",
              "      <th>2</th>\n",
              "      <td>UcQhHkWR8YfIOWeLzjflNA</td>\n",
              "      <td>xUhKi3p2BRTEbTHtJz-Hhg</td>\n",
              "      <td>J8GuDrqeLH1xMpSpeEixYA</td>\n",
              "      <td>Biscuits</td>\n",
              "      <td>4.0</td>\n",
              "      <td>14</td>\n",
              "      <td>True</td>\n",
              "    </tr>\n",
              "    <tr>\n",
              "      <th>3</th>\n",
              "      <td>IJj3by6GI9jV8d5wI46Taw</td>\n",
              "      <td>Vv1jaDcK9fdaqGwODB0AcA</td>\n",
              "      <td>J8GuDrqeLH1xMpSpeEixYA</td>\n",
              "      <td>Biscuits</td>\n",
              "      <td>3.0</td>\n",
              "      <td>20</td>\n",
              "      <td>True</td>\n",
              "    </tr>\n",
              "    <tr>\n",
              "      <th>4</th>\n",
              "      <td>ynCKeNNCL76ws3W3AtbAKQ</td>\n",
              "      <td>ZefHQwjj3b7mxi46oKik-g</td>\n",
              "      <td>J8GuDrqeLH1xMpSpeEixYA</td>\n",
              "      <td>Biscuits</td>\n",
              "      <td>3.0</td>\n",
              "      <td>330</td>\n",
              "      <td>True</td>\n",
              "    </tr>\n",
              "    <tr>\n",
              "      <th>...</th>\n",
              "      <td>...</td>\n",
              "      <td>...</td>\n",
              "      <td>...</td>\n",
              "      <td>...</td>\n",
              "      <td>...</td>\n",
              "      <td>...</td>\n",
              "      <td>...</td>\n",
              "    </tr>\n",
              "    <tr>\n",
              "      <th>213373</th>\n",
              "      <td>BQ7dFc-3vGsqZOvm9WHxCg</td>\n",
              "      <td>pdUDahfWzMY8Y91lmxxvOQ</td>\n",
              "      <td>chM2ywVOhmrKSI2kopKB3A</td>\n",
              "      <td>Wendy's</td>\n",
              "      <td>3.0</td>\n",
              "      <td>708</td>\n",
              "      <td>NaN</td>\n",
              "    </tr>\n",
              "    <tr>\n",
              "      <th>213374</th>\n",
              "      <td>hfQ-I810mjdU0wwwUZdRWw</td>\n",
              "      <td>PigmfOVw58sLqdUDLZXT-A</td>\n",
              "      <td>chM2ywVOhmrKSI2kopKB3A</td>\n",
              "      <td>Wendy's</td>\n",
              "      <td>1.0</td>\n",
              "      <td>1</td>\n",
              "      <td>NaN</td>\n",
              "    </tr>\n",
              "    <tr>\n",
              "      <th>213375</th>\n",
              "      <td>0g8hTWBptv0POpXUtyADRA</td>\n",
              "      <td>M6MyQzKjOBYZVwaZzMl5FQ</td>\n",
              "      <td>91lHqPZKsySetYu8xWo2GQ</td>\n",
              "      <td>Kouzina</td>\n",
              "      <td>5.0</td>\n",
              "      <td>27</td>\n",
              "      <td>NaN</td>\n",
              "    </tr>\n",
              "    <tr>\n",
              "      <th>213376</th>\n",
              "      <td>_kuCov_gzBFV34Oe7d9sCw</td>\n",
              "      <td>jP7KB6uLQ6WeCFYfJYDjKw</td>\n",
              "      <td>91lHqPZKsySetYu8xWo2GQ</td>\n",
              "      <td>Kouzina</td>\n",
              "      <td>5.0</td>\n",
              "      <td>1</td>\n",
              "      <td>NaN</td>\n",
              "    </tr>\n",
              "    <tr>\n",
              "      <th>213377</th>\n",
              "      <td>9yzIdJFkbDyBcTKIpMVODA</td>\n",
              "      <td>o_JOnAnOk45eUoaraw_sbw</td>\n",
              "      <td>91lHqPZKsySetYu8xWo2GQ</td>\n",
              "      <td>Kouzina</td>\n",
              "      <td>5.0</td>\n",
              "      <td>1</td>\n",
              "      <td>NaN</td>\n",
              "    </tr>\n",
              "  </tbody>\n",
              "</table>\n",
              "<p>213378 rows × 7 columns</p>\n",
              "</div>"
            ],
            "text/plain": [
              "                     review_id  ... RestaurantsGoodForGroups\n",
              "0       G1rbhEyMUVnFIq1kAT8jCg  ...                     True\n",
              "1       OtH9uCUr5e2Kz12F1LboXA  ...                     True\n",
              "2       UcQhHkWR8YfIOWeLzjflNA  ...                     True\n",
              "3       IJj3by6GI9jV8d5wI46Taw  ...                     True\n",
              "4       ynCKeNNCL76ws3W3AtbAKQ  ...                     True\n",
              "...                        ...  ...                      ...\n",
              "213373  BQ7dFc-3vGsqZOvm9WHxCg  ...                      NaN\n",
              "213374  hfQ-I810mjdU0wwwUZdRWw  ...                      NaN\n",
              "213375  0g8hTWBptv0POpXUtyADRA  ...                      NaN\n",
              "213376  _kuCov_gzBFV34Oe7d9sCw  ...                      NaN\n",
              "213377  9yzIdJFkbDyBcTKIpMVODA  ...                      NaN\n",
              "\n",
              "[213378 rows x 7 columns]"
            ]
          },
          "metadata": {
            "tags": []
          },
          "execution_count": 6
        }
      ]
    },
    {
      "cell_type": "markdown",
      "metadata": {
        "id": "ZNaMYHxWSOLo"
      },
      "source": [
        "## Method to calculate user-based precision and recall"
      ]
    },
    {
      "cell_type": "code",
      "metadata": {
        "id": "KTP81lFLhi9_"
      },
      "source": [
        "def precision_recall_at_k(predictions, k=10, threshold=3.5):\n",
        "    '''Return precision and recall at k metrics for each user.'''\n",
        "\n",
        "    # First map the predictions to each user.\n",
        "    user_est_true = defaultdict(list)\n",
        "    for uid, _, true_r, est, _ in predictions:\n",
        "        user_est_true[uid].append((est, true_r))\n",
        "\n",
        "    precisions = dict()\n",
        "    recalls = dict()\n",
        "    for uid, user_ratings in user_est_true.items():\n",
        "\n",
        "        # Sort user ratings by estimated value\n",
        "        user_ratings.sort(key=lambda x: x[0], reverse=True)\n",
        "\n",
        "        # Number of relevant items\n",
        "        n_rel = sum((true_r >= threshold) for (_, true_r) in user_ratings)\n",
        "\n",
        "        # Number of recommended items in top k\n",
        "        n_rec_k = sum((est >= threshold) for (est, _) in user_ratings[:k])\n",
        "\n",
        "        # Number of relevant and recommended items in top k\n",
        "        n_rel_and_rec_k = sum(((true_r >= threshold) and (est >= threshold))\n",
        "                              for (est, true_r) in user_ratings[:k])\n",
        "\n",
        "        # Precision@K: Proportion of recommended items that are relevant\n",
        "        precisions[uid] = n_rel_and_rec_k / n_rec_k if n_rec_k != 0 else 1\n",
        "\n",
        "        # Recall@K: Proportion of relevant items that are recommended\n",
        "        recalls[uid] = n_rel_and_rec_k / n_rel if n_rel != 0 else 1\n",
        "\n",
        "    return precisions, recalls"
      ],
      "execution_count": 7,
      "outputs": []
    },
    {
      "cell_type": "markdown",
      "metadata": {
        "id": "SVIU9CqNSTgY"
      },
      "source": [
        "## Variable declaration"
      ]
    },
    {
      "cell_type": "code",
      "metadata": {
        "id": "prPED-vhS1NV"
      },
      "source": [
        "N_SPLITS = 5\n",
        "FRAC_SPLIT = 0.2\n",
        "seed = 111\n",
        "train_test_files = []"
      ],
      "execution_count": 8,
      "outputs": []
    },
    {
      "cell_type": "markdown",
      "metadata": {
        "id": "8NfQw4iTSYhZ"
      },
      "source": [
        "## K-fold cross validation"
      ]
    },
    {
      "cell_type": "code",
      "metadata": {
        "id": "SCi_HEu0fiRf"
      },
      "source": [
        "i=1\n",
        "data = df_consolidated\n",
        "\n",
        "for train_val, test in partition_users(data, N_SPLITS, SampleFrac(FRAC_SPLIT)):\n",
        "    train_val_file = \"train_val_\"+str(i)+\".csv\"\n",
        "    train_val = train_val[train_val['RestaurantsGoodForGroups']==True]\n",
        "    train_val = train_val[['user', 'item', 'rating']]\n",
        "    train_val.to_csv(train_val_file, index=False, header=False)\n",
        "    test_file = \"test_\"+str(i)+\".csv\"\n",
        "    test = test[test[\"Friends\"] >= 5]\n",
        "    test = test[['user', 'item', 'rating']]\n",
        "    test.to_csv(test_file, index=False, header=False)\n",
        "    train_test_files.append((train_val_file, test_file))\n",
        "    i+=1"
      ],
      "execution_count": 16,
      "outputs": []
    },
    {
      "cell_type": "code",
      "metadata": {
        "id": "Wjtiw5VekBc6"
      },
      "source": [
        "for i in range(1, N_SPLITS+1):\n",
        "    train_val_file = \"train_val_\"+str(i)+\".csv\"\n",
        "    test_file = \"test_\"+str(i)+\".csv\"\n",
        "    train_test_files.append((train_val_file, test_file))"
      ],
      "execution_count": null,
      "outputs": []
    },
    {
      "cell_type": "markdown",
      "metadata": {
        "id": "U6pc7RZtSgP5"
      },
      "source": [
        "## Grid Search for hyperparameter optimization on SVD"
      ]
    },
    {
      "cell_type": "code",
      "metadata": {
        "colab": {
          "base_uri": "https://localhost:8080/"
        },
        "id": "9R5v6u-NUnnR",
        "outputId": "ad499278-cbd2-4a31-9dd8-59c599480057"
      },
      "source": [
        "reader = Reader(line_format='user item rating', sep=',')\n",
        "data = Dataset.load_from_folds(train_test_files, reader=reader)\n",
        "pkf = PredefinedKFold()\n",
        "param_grid = {'n_epochs': [5, 10, 20, 30], 'lr_all': [0.001, 0.005, 0.01, 0.1],\n",
        "              'reg_all': [0.02, 0.2, 2], 'random_state': [seed]}\n",
        "gs = GridSearchCV(SVD, param_grid, measures=['rmse', 'mae'], cv=pkf)\n",
        "gs.fit(data)\n",
        "\n",
        "# best RMSE score\n",
        "print(gs.best_score['rmse'])\n",
        "\n",
        "# combination of parameters that gave the best RMSE score\n",
        "print(gs.best_params['rmse'])"
      ],
      "execution_count": 17,
      "outputs": [
        {
          "output_type": "stream",
          "text": [
            "1.0770548032491352\n",
            "{'n_epochs': 30, 'lr_all': 0.005, 'reg_all': 0.2, 'random_state': 111}\n"
          ],
          "name": "stdout"
        }
      ]
    },
    {
      "cell_type": "markdown",
      "metadata": {
        "id": "7Uqe4MTvSmJl"
      },
      "source": [
        "## Store results to CSV file"
      ]
    },
    {
      "cell_type": "code",
      "metadata": {
        "id": "g_vapWVjpCMv"
      },
      "source": [
        "results_df = pd.DataFrame.from_dict(gs.cv_results)\n",
        "results = results_df[['mean_test_rmse', 'std_test_rmse', 'mean_test_mae', 'std_test_mae', 'param_n_epochs', 'param_lr_all', 'param_reg_all']]\n",
        "results.to_csv(\"SVD_filtered_results.csv\")"
      ],
      "execution_count": 18,
      "outputs": []
    },
    {
      "cell_type": "markdown",
      "metadata": {
        "id": "Ow4OkPl6Sqbm"
      },
      "source": [
        "## Grid Search for hyperparameter optimization on SVD++"
      ]
    },
    {
      "cell_type": "code",
      "metadata": {
        "colab": {
          "base_uri": "https://localhost:8080/"
        },
        "id": "XJzX2rtllERm",
        "outputId": "3bef3848-1a73-4ae7-9700-9cacdcfbcc6c"
      },
      "source": [
        "# reader = Reader(line_format='user item rating', sep=',')\n",
        "# data = Dataset.load_from_folds(train_test_files, reader=reader)\n",
        "# pkf = PredefinedKFold()\n",
        "# param_grid = {'n_epochs': [5, 10, 20, 30], 'lr_all': [0.001, 0.005, 0.01, 0.1],\n",
        "#               'reg_all': [0.02, 0.2, 2], 'random_state': [seed]}\n",
        "gs = GridSearchCV(SVDpp, param_grid, measures=['rmse', 'mae'], cv=pkf)\n",
        "gs.fit(data)\n",
        "\n",
        "# best RMSE score\n",
        "print(gs.best_score['rmse'])\n",
        "\n",
        "# combination of parameters that gave the best RMSE score\n",
        "print(gs.best_params['rmse'])"
      ],
      "execution_count": 19,
      "outputs": [
        {
          "output_type": "stream",
          "text": [
            "1.0754327658908416\n",
            "{'n_epochs': 30, 'lr_all': 0.005, 'reg_all': 0.2, 'random_state': 111}\n"
          ],
          "name": "stdout"
        }
      ]
    },
    {
      "cell_type": "markdown",
      "metadata": {
        "id": "7XQPbR-jStDy"
      },
      "source": [
        "## Store results to CSV file"
      ]
    },
    {
      "cell_type": "code",
      "metadata": {
        "id": "28p7cu_pRRuB"
      },
      "source": [
        "results_df = pd.DataFrame.from_dict(gs.cv_results)\n",
        "results = results_df[['mean_test_rmse', 'std_test_rmse', 'mean_test_mae', 'std_test_mae', 'param_n_epochs', 'param_lr_all', 'param_reg_all']]\n",
        "results.to_csv(\"SVDpp_filtered_results.csv\")"
      ],
      "execution_count": 20,
      "outputs": []
    },
    {
      "cell_type": "markdown",
      "metadata": {
        "id": "Xn4-_wGNS1bX"
      },
      "source": [
        "## SVD with tuned hyperparameters"
      ]
    },
    {
      "cell_type": "code",
      "metadata": {
        "id": "HV7LHu41feBK",
        "colab": {
          "base_uri": "https://localhost:8080/"
        },
        "outputId": "123856b8-be39-4caa-9191-ef10bf7ccd08"
      },
      "source": [
        "prec_to_ave = []\n",
        "rec_to_ave = []\n",
        "rmse_to_ave = []\n",
        "mae_to_ave = []\n",
        "\n",
        "reader = Reader(line_format='user item rating', sep=',')\n",
        "data = Dataset.load_from_folds(train_test_files, reader=reader)\n",
        "pkf = PredefinedKFold()\n",
        "algo = SVD(n_epochs=30, reg_all=0.2, random_state=seed)\n",
        "for trainset, testset in pkf.split(data):\n",
        "    algo.fit(trainset)\n",
        "    predictions = algo.test(testset)\n",
        "    precisions, recalls = precision_recall_at_k(predictions, k=5, threshold=4)\n",
        "    # Precision and recall can then be averaged over all users\n",
        "    prec_to_ave.append(sum(prec for prec in precisions.values()) / len(precisions))\n",
        "    rec_to_ave.append(sum(rec for rec in recalls.values()) / len(recalls))\n",
        "    rmse_to_ave.append(accuracy.rmse(predictions))\n",
        "    mae_to_ave.append(accuracy.mae(predictions))"
      ],
      "execution_count": 21,
      "outputs": [
        {
          "output_type": "stream",
          "text": [
            "RMSE: 1.1103\n",
            "MAE:  0.8634\n",
            "RMSE: 1.0358\n",
            "MAE:  0.8081\n",
            "RMSE: 1.0609\n",
            "MAE:  0.8268\n",
            "RMSE: 1.1033\n",
            "MAE:  0.8663\n",
            "RMSE: 1.0749\n",
            "MAE:  0.8359\n",
            "RMSE: 1.1103\n",
            "MAE:  0.8634\n",
            "RMSE: 1.0358\n",
            "MAE:  0.8081\n",
            "RMSE: 1.0609\n",
            "MAE:  0.8268\n",
            "RMSE: 1.1033\n",
            "MAE:  0.8663\n",
            "RMSE: 1.0749\n",
            "MAE:  0.8359\n"
          ],
          "name": "stdout"
        }
      ]
    },
    {
      "cell_type": "markdown",
      "metadata": {
        "id": "pi7_Fki3S9gj"
      },
      "source": [
        "## Metrics"
      ]
    },
    {
      "cell_type": "code",
      "metadata": {
        "colab": {
          "base_uri": "https://localhost:8080/"
        },
        "id": "-vv9Z9gdgjz3",
        "outputId": "7c8dd671-e6d9-4ccd-fcd8-033b9c6da4b6"
      },
      "source": [
        "precision_average = sum(prec_to_ave)/len(prec_to_ave)\n",
        "recall_average = sum(rec_to_ave)/len(prec_to_ave)\n",
        "rmse_average = sum(rmse_to_ave)/len(rmse_to_ave)\n",
        "mae_average = sum(mae_to_ave)/len(mae_to_ave)\n",
        "\n",
        "print(\"Precision and Recall averages are {0} and {1}, respectively\".format(precision_average, recall_average))\n",
        "print(\"RMSE and MAE averages are {0} and {1}, respectively\".format(rmse_average, mae_average))"
      ],
      "execution_count": 22,
      "outputs": [
        {
          "output_type": "stream",
          "text": [
            "Precision and Recall averages are 0.9299364874705051 and 0.5718002366149364, respectively\n",
            "RMSE and MAE averages are 1.0770548032491352 and 0.8400912628202726, respectively\n"
          ],
          "name": "stdout"
        }
      ]
    },
    {
      "cell_type": "markdown",
      "metadata": {
        "id": "NTeYxNwoTE7e"
      },
      "source": [
        "## SVD++ with tuned hyperparameters"
      ]
    },
    {
      "cell_type": "code",
      "metadata": {
        "colab": {
          "base_uri": "https://localhost:8080/"
        },
        "id": "koGoS5ldS_r-",
        "outputId": "1b4524d9-451e-49e6-c3de-f4a43b4b8184"
      },
      "source": [
        "prec_to_ave = []\n",
        "rec_to_ave = []\n",
        "rmse_to_ave = []\n",
        "mae_to_ave = []\n",
        "reader = Reader(line_format='user item rating', sep=',')\n",
        "data = Dataset.load_from_folds(train_test_files, reader=reader)\n",
        "pkf = PredefinedKFold()\n",
        "algo = SVDpp(n_epochs=30, reg_all=0.2, random_state=seed)\n",
        "for trainset, testset in pkf.split(data):\n",
        "    algo.fit(trainset)\n",
        "    predictions = algo.test(testset)\n",
        "    precisions, recalls = precision_recall_at_k(predictions, k=5, threshold=4)\n",
        "    # Precision and recall can then be averaged over all users\n",
        "    prec_to_ave.append(sum(prec for prec in precisions.values()) / len(precisions))\n",
        "    rec_to_ave.append(sum(rec for rec in recalls.values()) / len(recalls))\n",
        "    rmse_to_ave.append(accuracy.rmse(predictions))\n",
        "    mae_to_ave.append(accuracy.mae(predictions))"
      ],
      "execution_count": 23,
      "outputs": [
        {
          "output_type": "stream",
          "text": [
            "RMSE: 1.1124\n",
            "MAE:  0.8643\n",
            "RMSE: 1.0376\n",
            "MAE:  0.8084\n",
            "RMSE: 1.0633\n",
            "MAE:  0.8274\n",
            "RMSE: 1.1022\n",
            "MAE:  0.8653\n",
            "RMSE: 1.0786\n",
            "MAE:  0.8387\n",
            "RMSE: 1.1124\n",
            "MAE:  0.8643\n",
            "RMSE: 1.0376\n",
            "MAE:  0.8084\n",
            "RMSE: 1.0633\n",
            "MAE:  0.8274\n",
            "RMSE: 1.1022\n",
            "MAE:  0.8653\n",
            "RMSE: 1.0786\n",
            "MAE:  0.8387\n"
          ],
          "name": "stdout"
        }
      ]
    },
    {
      "cell_type": "markdown",
      "metadata": {
        "id": "IEy7jvvKTK7F"
      },
      "source": [
        "## Metrics"
      ]
    },
    {
      "cell_type": "code",
      "metadata": {
        "colab": {
          "base_uri": "https://localhost:8080/"
        },
        "id": "YG8_dk_5TKSH",
        "outputId": "cbb1314f-eab1-43ca-a8ed-5eac0595f40a"
      },
      "source": [
        "precision_average = sum(prec_to_ave)/len(prec_to_ave)\n",
        "recall_average = sum(rec_to_ave)/len(prec_to_ave)\n",
        "rmse_average = sum(rmse_to_ave)/len(rmse_to_ave)\n",
        "mae_average = sum(mae_to_ave)/len(mae_to_ave)\n",
        "\n",
        "print(\"Precision and Recall averages are {0} and {1}, respectively\".format(precision_average, recall_average))\n",
        "print(\"RMSE and MAE averages are {0} and {1}, respectively\".format(rmse_average, mae_average))"
      ],
      "execution_count": 24,
      "outputs": [
        {
          "output_type": "stream",
          "text": [
            "Precision and Recall averages are 0.9202020999468304 and 0.5877478952522146, respectively\n",
            "RMSE and MAE averages are 1.0788141789637655 and 0.8408337642685382, respectively\n"
          ],
          "name": "stdout"
        }
      ]
    },
    {
      "cell_type": "code",
      "metadata": {
        "id": "3o9VxNaBgdau"
      },
      "source": [
        "def make_binary_tpr_fpr(predictions, threshold=3.5):\n",
        "    pred_df = pd.DataFrame(predictions)\n",
        "    pred_df['r_ui'].where(pred_df['r_ui']>threshold, 1, inplace=True)\n",
        "    pred_df['r_ui'].where(pred_df['r_ui']<=threshold, 0, inplace=True)\n",
        "    \n",
        "    pred_df['est'].where(pred_df['est']>threshold, 1, inplace=True)\n",
        "    pred_df['est'].where(pred_df['est']<=threshold, 0, inplace=True)\n",
        "\n",
        "    return pred_df['r_ui'], pred_df['est'],\n",
        "\n",
        "true_r, est = make_binary_tpr_fpr(predictions)"
      ],
      "execution_count": null,
      "outputs": []
    }
  ]
}