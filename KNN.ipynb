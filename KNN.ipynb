{
 "cells": [
  {
   "cell_type": "code",
   "execution_count": 1,
   "metadata": {},
   "outputs": [],
   "source": [
    "import pandas as pd\n",
    "from surprise import SVD\n",
    "from surprise import Dataset\n",
    "from surprise import accuracy\n",
    "from surprise.model_selection import train_test_split\n",
    "from surprise import KNNBasic,  KNNWithMeans, KNNBaseline\n",
    "from surprise.model_selection import KFold\n",
    "from surprise import Reader\n",
    "import matplotlib.pyplot as plt\n",
    "import seaborn as sns\n",
    "from collections import defaultdict"
   ]
  },
  {
   "cell_type": "code",
   "execution_count": 2,
   "metadata": {},
   "outputs": [],
   "source": [
    "df_business = pd.read_json('/home/rohan/Desktop/NYU/SearchAndDiscovery/Project/yelp/yelp_academic_dataset_business.json',lines=True)\n",
    "df_user = pd.read_json('/home/rohan/Desktop/NYU/SearchAndDiscovery/Project/yelp/yelp_academic_dataset_user.json',lines=True)\n",
    "df_review = pd.read_json('/home/rohan/Desktop/NYU/SearchAndDiscovery/Project/yelp/yelp_academic_dataset_review.json',lines=True)"
   ]
  },
  {
   "cell_type": "code",
   "execution_count": 3,
   "metadata": {},
   "outputs": [],
   "source": [
    "cats = ['Restaurant', 'Restaurants', 'Cafes', 'Bakeries', 'Bars', 'Desserts', 'Coffee & Tea', 'Juice Bars & Smoothies', 'Food Trucks', 'Caterers', 'Coffee Roasteries', 'Delicatessen', 'Deli']\n",
    "df_business = df_business[df_business['categories'].isin(cats)]"
   ]
  },
  {
   "cell_type": "code",
   "execution_count": 6,
   "metadata": {
    "scrolled": true
   },
   "outputs": [],
   "source": [
    "df_merged = df_review.merge(df_user, how='inner', left_on = ['user_id'], right_on = ['user_id'])\n",
    "df_merged = df_merged.merge(df_business, how='inner', left_on = ['business_id'], right_on = ['business_id'])"
   ]
  },
  {
   "cell_type": "code",
   "execution_count": 19,
   "metadata": {
    "scrolled": false
   },
   "outputs": [
    {
     "data": {
      "text/html": [
       "<div>\n",
       "<style scoped>\n",
       "    .dataframe tbody tr th:only-of-type {\n",
       "        vertical-align: middle;\n",
       "    }\n",
       "\n",
       "    .dataframe tbody tr th {\n",
       "        vertical-align: top;\n",
       "    }\n",
       "\n",
       "    .dataframe thead th {\n",
       "        text-align: right;\n",
       "    }\n",
       "</style>\n",
       "<table border=\"1\" class=\"dataframe\">\n",
       "  <thead>\n",
       "    <tr style=\"text-align: right;\">\n",
       "      <th></th>\n",
       "      <th>review_id</th>\n",
       "      <th>user_id</th>\n",
       "      <th>business_id</th>\n",
       "      <th>Restaurant Name</th>\n",
       "      <th>User Name</th>\n",
       "      <th>Rating</th>\n",
       "    </tr>\n",
       "  </thead>\n",
       "  <tbody>\n",
       "    <tr>\n",
       "      <th>0</th>\n",
       "      <td>gCn1oTcRPjg0nTNQWlFOgQ</td>\n",
       "      <td>ugr4oqMQxmLBIr9TCSePzQ</td>\n",
       "      <td>d5jY-uA0Zh33oFhENHuEcg</td>\n",
       "      <td>Saigon Kitchen</td>\n",
       "      <td>Joe</td>\n",
       "      <td>5</td>\n",
       "    </tr>\n",
       "    <tr>\n",
       "      <th>1</th>\n",
       "      <td>yUu8_Sz2ijF7jhntNTuWzQ</td>\n",
       "      <td>mthqL1PEfyseQ8PLuRs-kA</td>\n",
       "      <td>d5jY-uA0Zh33oFhENHuEcg</td>\n",
       "      <td>Saigon Kitchen</td>\n",
       "      <td>Jane</td>\n",
       "      <td>5</td>\n",
       "    </tr>\n",
       "    <tr>\n",
       "      <th>2</th>\n",
       "      <td>0Y-D-F-uk4whpo9bIh7JIA</td>\n",
       "      <td>as0LeBvM5S9MXNrNT1lSbw</td>\n",
       "      <td>d5jY-uA0Zh33oFhENHuEcg</td>\n",
       "      <td>Saigon Kitchen</td>\n",
       "      <td>Jenny</td>\n",
       "      <td>4</td>\n",
       "    </tr>\n",
       "    <tr>\n",
       "      <th>3</th>\n",
       "      <td>e8QsEfacsJNHdj_2iS9k6g</td>\n",
       "      <td>lygwv7tz0bPYi1xuXV4DaA</td>\n",
       "      <td>DlCpHyRiobzsbCKKGrQYZA</td>\n",
       "      <td>Restaurant Mangiamo</td>\n",
       "      <td>Jean-claude</td>\n",
       "      <td>5</td>\n",
       "    </tr>\n",
       "    <tr>\n",
       "      <th>4</th>\n",
       "      <td>zt3Tu6ISOCPLyRlMHrpkRQ</td>\n",
       "      <td>oEl84Dvg2RNtHs_twyh5SA</td>\n",
       "      <td>hG-okRD-mjpZQheWT9gwBg</td>\n",
       "      <td>Ollies Omelette House</td>\n",
       "      <td>Juan</td>\n",
       "      <td>1</td>\n",
       "    </tr>\n",
       "    <tr>\n",
       "      <th>5</th>\n",
       "      <td>pR-tKzS-rMI3NXrRPywCgg</td>\n",
       "      <td>-wV6SMXOVymsA6C6ztlVxw</td>\n",
       "      <td>t5SXjiQlp-0ctHzYES2Juw</td>\n",
       "      <td>Goodlake</td>\n",
       "      <td>Rob</td>\n",
       "      <td>5</td>\n",
       "    </tr>\n",
       "    <tr>\n",
       "      <th>6</th>\n",
       "      <td>TgqFFxv8JMwfKbKfE0WzxA</td>\n",
       "      <td>-wV6SMXOVymsA6C6ztlVxw</td>\n",
       "      <td>t5SXjiQlp-0ctHzYES2Juw</td>\n",
       "      <td>Goodlake</td>\n",
       "      <td>Rob</td>\n",
       "      <td>5</td>\n",
       "    </tr>\n",
       "    <tr>\n",
       "      <th>7</th>\n",
       "      <td>wQPD5gUDs2Gg_9z5JN9S2A</td>\n",
       "      <td>VgZuko0P1Pf0In9DOKBhpA</td>\n",
       "      <td>U8ypUjl42xwqh5ecQsbptw</td>\n",
       "      <td>Lake Todd Fish Camp</td>\n",
       "      <td>Roseanne</td>\n",
       "      <td>5</td>\n",
       "    </tr>\n",
       "    <tr>\n",
       "      <th>8</th>\n",
       "      <td>3R1R1ju6YWLIh3xoxwjqSg</td>\n",
       "      <td>_ixvEpV363vm5cUW52FK7g</td>\n",
       "      <td>U8ypUjl42xwqh5ecQsbptw</td>\n",
       "      <td>Lake Todd Fish Camp</td>\n",
       "      <td>Larry</td>\n",
       "      <td>4</td>\n",
       "    </tr>\n",
       "    <tr>\n",
       "      <th>9</th>\n",
       "      <td>RAGwVB3L2wGXSLVWp4yd0A</td>\n",
       "      <td>oWWNBmi5NM39QHU4q03CJA</td>\n",
       "      <td>MaiS2GYrtOGQNOdQAjsXBg</td>\n",
       "      <td>Resto Nouveau Systeme</td>\n",
       "      <td>Jordan</td>\n",
       "      <td>5</td>\n",
       "    </tr>\n",
       "    <tr>\n",
       "      <th>10</th>\n",
       "      <td>ezl_0eE5RLD3XxlGC_XUsw</td>\n",
       "      <td>kOc5a3AS-gui1HmzIPquyQ</td>\n",
       "      <td>myJKusJSWeNT6XGm9nBO8A</td>\n",
       "      <td>Rudy's Submarines</td>\n",
       "      <td>Bridget</td>\n",
       "      <td>2</td>\n",
       "    </tr>\n",
       "    <tr>\n",
       "      <th>11</th>\n",
       "      <td>GKJepkoFu_CuZKLOw-ULOA</td>\n",
       "      <td>BZm4P2q0iYwO45dVCWuADg</td>\n",
       "      <td>RkUJ2dBInkKtXBwU0CIffQ</td>\n",
       "      <td>Cafe Roma</td>\n",
       "      <td>Karen</td>\n",
       "      <td>5</td>\n",
       "    </tr>\n",
       "  </tbody>\n",
       "</table>\n",
       "</div>"
      ],
      "text/plain": [
       "                 review_id                 user_id             business_id  \\\n",
       "0   gCn1oTcRPjg0nTNQWlFOgQ  ugr4oqMQxmLBIr9TCSePzQ  d5jY-uA0Zh33oFhENHuEcg   \n",
       "1   yUu8_Sz2ijF7jhntNTuWzQ  mthqL1PEfyseQ8PLuRs-kA  d5jY-uA0Zh33oFhENHuEcg   \n",
       "2   0Y-D-F-uk4whpo9bIh7JIA  as0LeBvM5S9MXNrNT1lSbw  d5jY-uA0Zh33oFhENHuEcg   \n",
       "3   e8QsEfacsJNHdj_2iS9k6g  lygwv7tz0bPYi1xuXV4DaA  DlCpHyRiobzsbCKKGrQYZA   \n",
       "4   zt3Tu6ISOCPLyRlMHrpkRQ  oEl84Dvg2RNtHs_twyh5SA  hG-okRD-mjpZQheWT9gwBg   \n",
       "5   pR-tKzS-rMI3NXrRPywCgg  -wV6SMXOVymsA6C6ztlVxw  t5SXjiQlp-0ctHzYES2Juw   \n",
       "6   TgqFFxv8JMwfKbKfE0WzxA  -wV6SMXOVymsA6C6ztlVxw  t5SXjiQlp-0ctHzYES2Juw   \n",
       "7   wQPD5gUDs2Gg_9z5JN9S2A  VgZuko0P1Pf0In9DOKBhpA  U8ypUjl42xwqh5ecQsbptw   \n",
       "8   3R1R1ju6YWLIh3xoxwjqSg  _ixvEpV363vm5cUW52FK7g  U8ypUjl42xwqh5ecQsbptw   \n",
       "9   RAGwVB3L2wGXSLVWp4yd0A  oWWNBmi5NM39QHU4q03CJA  MaiS2GYrtOGQNOdQAjsXBg   \n",
       "10  ezl_0eE5RLD3XxlGC_XUsw  kOc5a3AS-gui1HmzIPquyQ  myJKusJSWeNT6XGm9nBO8A   \n",
       "11  GKJepkoFu_CuZKLOw-ULOA  BZm4P2q0iYwO45dVCWuADg  RkUJ2dBInkKtXBwU0CIffQ   \n",
       "\n",
       "          Restaurant Name    User Name  Rating  \n",
       "0          Saigon Kitchen          Joe       5  \n",
       "1          Saigon Kitchen         Jane       5  \n",
       "2          Saigon Kitchen        Jenny       4  \n",
       "3     Restaurant Mangiamo  Jean-claude       5  \n",
       "4   Ollies Omelette House         Juan       1  \n",
       "5                Goodlake          Rob       5  \n",
       "6                Goodlake          Rob       5  \n",
       "7     Lake Todd Fish Camp     Roseanne       5  \n",
       "8     Lake Todd Fish Camp        Larry       4  \n",
       "9   Resto Nouveau Systeme       Jordan       5  \n",
       "10      Rudy's Submarines      Bridget       2  \n",
       "11              Cafe Roma        Karen       5  "
      ]
     },
     "execution_count": 19,
     "metadata": {},
     "output_type": "execute_result"
    }
   ],
   "source": [
    "df_consolidated = df_merged[['review_id','user_id','business_id','name_y','name_x','stars_x']]\n",
    "df_consolidated.columns = ['review_id','user_id','business_id','Restaurant Name', 'User Name', 'Rating']\n",
    "df_consolidated"
   ]
  },
  {
   "cell_type": "code",
   "execution_count": 21,
   "metadata": {},
   "outputs": [],
   "source": [
    "reader = Reader(rating_scale=(1, 5))\n",
    "data = Dataset.load_from_df(df_consolidated[['user_id', 'business_id', 'Rating']], reader)"
   ]
  },
  {
   "cell_type": "markdown",
   "metadata": {},
   "source": [
    "# Basic KNN"
   ]
  },
  {
   "cell_type": "code",
   "execution_count": 22,
   "metadata": {},
   "outputs": [
    {
     "name": "stdout",
     "output_type": "stream",
     "text": [
      "Computing the msd similarity matrix...\n",
      "Done computing similarity matrix.\n",
      "RMSE: 1.2809\n",
      "Computing the msd similarity matrix...\n",
      "Done computing similarity matrix.\n",
      "RMSE: 0.9743\n",
      "Computing the msd similarity matrix...\n",
      "Done computing similarity matrix.\n",
      "RMSE: 1.7854\n"
     ]
    }
   ],
   "source": [
    "kf = KFold(n_splits=3)\n",
    "algo = KNNBasic()\n",
    "best_algo = None\n",
    "best_rmse = 1000.0\n",
    "best_pred = None\n",
    "for trainset, testset in kf.split(data):\n",
    "    algo.fit(trainset)\n",
    "    predictions = algo.test(testset)\n",
    "    rmse = accuracy.rmse(predictions, verbose=True)\n",
    "    if rmse < best_rmse:\n",
    "        best_algo = algo\n",
    "        best_pred = predictions"
   ]
  },
  {
   "cell_type": "markdown",
   "metadata": {},
   "source": [
    "# KNN with cosine similarity"
   ]
  },
  {
   "cell_type": "code",
   "execution_count": 23,
   "metadata": {},
   "outputs": [
    {
     "name": "stdout",
     "output_type": "stream",
     "text": [
      "Computing the cosine similarity matrix...\n",
      "Done computing similarity matrix.\n",
      "RMSE: 2.7073\n",
      "Computing the cosine similarity matrix...\n",
      "Done computing similarity matrix.\n",
      "RMSE: 0.8165\n",
      "Computing the cosine similarity matrix...\n",
      "Done computing similarity matrix.\n",
      "RMSE: 0.5831\n",
      "Computing the cosine similarity matrix...\n",
      "Done computing similarity matrix.\n",
      "RMSE: 0.5831\n",
      "Computing the cosine similarity matrix...\n",
      "Done computing similarity matrix.\n",
      "RMSE: 0.9000\n",
      "0.5830951894845299\n"
     ]
    }
   ],
   "source": [
    "# Fitting with splits 5\n",
    "kf = KFold(n_splits=5)\n",
    "sim_options = {'name':'cosine'}\n",
    "algo = KNNWithMeans(sim_options = sim_options)\n",
    "best_algo = None\n",
    "best_rmse = 1000.0\n",
    "best_pred = None\n",
    "for trainset, testset in kf.split(data):\n",
    "    algo.fit(trainset)\n",
    "    predictions = algo.test(testset)\n",
    "    rmse = accuracy.rmse(predictions, verbose=True)\n",
    "    if rmse < best_rmse:\n",
    "        best_algo = algo\n",
    "        best_rmse= rmse\n",
    "        best_pred = predictions\n",
    "print(best_rmse)"
   ]
  },
  {
   "cell_type": "markdown",
   "metadata": {},
   "source": [
    "# Minkowski distance with p=2 (Euclidean)"
   ]
  },
  {
   "cell_type": "code",
   "execution_count": 25,
   "metadata": {},
   "outputs": [
    {
     "name": "stdout",
     "output_type": "stream",
     "text": [
      "Computing the msd similarity matrix...\n",
      "Done computing similarity matrix.\n",
      "RMSE: 1.0000\n",
      "Computing the msd similarity matrix...\n",
      "Done computing similarity matrix.\n",
      "RMSE: 1.4699\n",
      "Computing the msd similarity matrix...\n",
      "Done computing similarity matrix.\n",
      "RMSE: 2.5000\n",
      "Computing the msd similarity matrix...\n",
      "Done computing similarity matrix.\n",
      "RMSE: 0.5831\n",
      "Computing the msd similarity matrix...\n",
      "Done computing similarity matrix.\n",
      "RMSE: 0.9000\n",
      "0.5830951894845299\n"
     ]
    }
   ],
   "source": [
    "# Fitting with splits 5\n",
    "kf = KFold(n_splits=5)\n",
    "sim_options = {'name':'msd'}\n",
    "algo = KNNWithMeans(sim_options = sim_options)\n",
    "best_algo = None\n",
    "best_rmse = 1000.0\n",
    "best_pred = None\n",
    "for trainset, testset in kf.split(data):\n",
    "    algo.fit(trainset)\n",
    "    predictions = algo.test(testset)\n",
    "    rmse = accuracy.rmse(predictions, verbose=True)\n",
    "    if rmse < best_rmse:\n",
    "        best_algo = algo\n",
    "        best_rmse= rmse\n",
    "        best_pred = predictions\n",
    "print(best_rmse)"
   ]
  },
  {
   "cell_type": "markdown",
   "metadata": {},
   "source": [
    "# Pearson coefficient"
   ]
  },
  {
   "cell_type": "code",
   "execution_count": 26,
   "metadata": {},
   "outputs": [
    {
     "name": "stdout",
     "output_type": "stream",
     "text": [
      "Computing the pearson similarity matrix...\n",
      "Done computing similarity matrix.\n",
      "RMSE: 0.1814\n",
      "Computing the pearson similarity matrix...\n",
      "Done computing similarity matrix.\n",
      "RMSE: 1.0000\n",
      "Computing the pearson similarity matrix...\n",
      "Done computing similarity matrix.\n",
      "RMSE: 2.5000\n",
      "Computing the pearson similarity matrix...\n",
      "Done computing similarity matrix.\n",
      "RMSE: 1.6971\n",
      "Computing the pearson similarity matrix...\n",
      "Done computing similarity matrix.\n",
      "RMSE: 0.9000\n",
      "0.18144368465060587\n"
     ]
    }
   ],
   "source": [
    "# Fitting with splits 5\n",
    "kf = KFold(n_splits=5)\n",
    "sim_options = {'name':'pearson'}\n",
    "algo = KNNWithMeans(sim_options = sim_options)\n",
    "best_algo = None\n",
    "best_rmse = 1000.0\n",
    "best_pred = None\n",
    "for trainset, testset in kf.split(data):\n",
    "    algo.fit(trainset)\n",
    "    predictions = algo.test(testset)\n",
    "    rmse = accuracy.rmse(predictions, verbose=True)\n",
    "    if rmse < best_rmse:\n",
    "        best_algo = algo\n",
    "        best_rmse= rmse\n",
    "        best_pred = predictions\n",
    "print(best_rmse)"
   ]
  },
  {
   "cell_type": "code",
   "execution_count": null,
   "metadata": {},
   "outputs": [],
   "source": []
  },
  {
   "cell_type": "code",
   "execution_count": null,
   "metadata": {},
   "outputs": [],
   "source": []
  },
  {
   "cell_type": "code",
   "execution_count": null,
   "metadata": {},
   "outputs": [],
   "source": []
  },
  {
   "cell_type": "code",
   "execution_count": null,
   "metadata": {},
   "outputs": [],
   "source": []
  },
  {
   "cell_type": "code",
   "execution_count": null,
   "metadata": {},
   "outputs": [],
   "source": []
  },
  {
   "cell_type": "code",
   "execution_count": null,
   "metadata": {},
   "outputs": [],
   "source": []
  },
  {
   "cell_type": "code",
   "execution_count": null,
   "metadata": {},
   "outputs": [],
   "source": []
  },
  {
   "cell_type": "code",
   "execution_count": null,
   "metadata": {},
   "outputs": [],
   "source": []
  },
  {
   "cell_type": "code",
   "execution_count": null,
   "metadata": {},
   "outputs": [],
   "source": []
  },
  {
   "cell_type": "code",
   "execution_count": null,
   "metadata": {},
   "outputs": [],
   "source": []
  }
 ],
 "metadata": {
  "kernelspec": {
   "display_name": "Python 3",
   "language": "python",
   "name": "python3"
  },
  "language_info": {
   "codemirror_mode": {
    "name": "ipython",
    "version": 3
   },
   "file_extension": ".py",
   "mimetype": "text/x-python",
   "name": "python",
   "nbconvert_exporter": "python",
   "pygments_lexer": "ipython3",
   "version": "3.6.10"
  }
 },
 "nbformat": 4,
 "nbformat_minor": 4
}
