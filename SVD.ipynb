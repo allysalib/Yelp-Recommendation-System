{
  "nbformat": 4,
  "nbformat_minor": 0,
  "metadata": {
    "colab": {
      "name": "SVD.ipynb",
      "provenance": [],
      "collapsed_sections": []
    },
    "kernelspec": {
      "display_name": "Python 3",
      "name": "python3"
    }
  },
  "cells": [
    {
      "cell_type": "markdown",
      "metadata": {
        "id": "e_azfvLxRWJ0"
      },
      "source": [
        "## Read Data"
      ]
    },
    {
      "cell_type": "code",
      "metadata": {
        "colab": {
          "base_uri": "https://localhost:8080/"
        },
        "id": "wSQAPjug4Aaf",
        "outputId": "bf7b4d93-283f-4403-bd0e-263750661c07"
      },
      "source": [
        "# Load the Drive helper and mount\n",
        "from google.colab import drive\n",
        "\n",
        "# This will prompt for authorization.\n",
        "drive.mount('/content/drive')"
      ],
      "execution_count": 1,
      "outputs": [
        {
          "output_type": "stream",
          "text": [
            "Drive already mounted at /content/drive; to attempt to forcibly remount, call drive.mount(\"/content/drive\", force_remount=True).\n"
          ],
          "name": "stdout"
        }
      ]
    },
    {
      "cell_type": "code",
      "metadata": {
        "colab": {
          "base_uri": "https://localhost:8080/"
        },
        "id": "SKH9Y6by4DN-",
        "outputId": "9b6270a1-269e-4063-8ce3-e88fa944b493"
      },
      "source": [
        "cd /content/drive/'My Drive'/'SearchAndDiscoveryData'"
      ],
      "execution_count": 2,
      "outputs": [
        {
          "output_type": "stream",
          "text": [
            "/content/drive/My Drive/SearchAndDiscoveryData\n"
          ],
          "name": "stdout"
        }
      ]
    },
    {
      "cell_type": "markdown",
      "metadata": {
        "id": "dqUogYrkRdes"
      },
      "source": [
        "## Imports"
      ]
    },
    {
      "cell_type": "code",
      "metadata": {
        "colab": {
          "base_uri": "https://localhost:8080/"
        },
        "id": "gwJH3B7hd-27",
        "outputId": "e6b0161d-d432-492e-e023-e9e90b089531"
      },
      "source": [
        "#!/usr/bin/env python\n",
        "!pip install surprise\n",
        "!pip install lenskit\n",
        "import pandas as pd\n",
        "from surprise import SVD, SVDpp\n",
        "from surprise import Dataset\n",
        "from surprise import accuracy\n",
        "from surprise.model_selection import train_test_split\n",
        "from surprise import KNNBasic,  KNNWithMeans, KNNBaseline\n",
        "from surprise.model_selection import KFold, PredefinedKFold, GridSearchCV\n",
        "from surprise import Reader\n",
        "from lenskit.crossfold import partition_users, SampleFrac\n",
        "import matplotlib.pyplot as plt\n",
        "import seaborn as sns\n",
        "from collections import defaultdict"
      ],
      "execution_count": 3,
      "outputs": [
        {
          "output_type": "stream",
          "text": [
            "Requirement already satisfied: surprise in /usr/local/lib/python3.6/dist-packages (0.1)\n",
            "Requirement already satisfied: scikit-surprise in /usr/local/lib/python3.6/dist-packages (from surprise) (1.1.1)\n",
            "Requirement already satisfied: scipy>=1.0.0 in /usr/local/lib/python3.6/dist-packages (from scikit-surprise->surprise) (1.4.1)\n",
            "Requirement already satisfied: numpy>=1.11.2 in /usr/local/lib/python3.6/dist-packages (from scikit-surprise->surprise) (1.18.5)\n",
            "Requirement already satisfied: six>=1.10.0 in /usr/local/lib/python3.6/dist-packages (from scikit-surprise->surprise) (1.15.0)\n",
            "Requirement already satisfied: joblib>=0.11 in /usr/local/lib/python3.6/dist-packages (from scikit-surprise->surprise) (0.17.0)\n",
            "Requirement already satisfied: lenskit in /usr/local/lib/python3.6/dist-packages (0.11.1)\n",
            "Requirement already satisfied: binpickle>=0.3.2 in /usr/local/lib/python3.6/dist-packages (from lenskit) (0.3.2)\n",
            "Requirement already satisfied: scipy>=1.2 in /usr/local/lib/python3.6/dist-packages (from lenskit) (1.4.1)\n",
            "Requirement already satisfied: cffi>=1.12.2 in /usr/local/lib/python3.6/dist-packages (from lenskit) (1.14.3)\n",
            "Requirement already satisfied: pyarrow>=0.15 in /usr/local/lib/python3.6/dist-packages (from lenskit) (2.0.0)\n",
            "Requirement already satisfied: numpy>=1.16 in /usr/local/lib/python3.6/dist-packages (from lenskit) (1.18.5)\n",
            "Requirement already satisfied: numba<0.52,>=0.45 in /usr/local/lib/python3.6/dist-packages (from lenskit) (0.48.0)\n",
            "Requirement already satisfied: pandas>=0.24 in /usr/local/lib/python3.6/dist-packages (from lenskit) (1.1.4)\n",
            "Requirement already satisfied: pickle5; python_version < \"3.8\" in /usr/local/lib/python3.6/dist-packages (from binpickle>=0.3.2->lenskit) (0.0.11)\n",
            "Requirement already satisfied: msgpack>=1.0 in /usr/local/lib/python3.6/dist-packages (from binpickle>=0.3.2->lenskit) (1.0.0)\n",
            "Requirement already satisfied: pycparser in /usr/local/lib/python3.6/dist-packages (from cffi>=1.12.2->lenskit) (2.20)\n",
            "Requirement already satisfied: llvmlite<0.32.0,>=0.31.0dev0 in /usr/local/lib/python3.6/dist-packages (from numba<0.52,>=0.45->lenskit) (0.31.0)\n",
            "Requirement already satisfied: setuptools in /usr/local/lib/python3.6/dist-packages (from numba<0.52,>=0.45->lenskit) (50.3.2)\n",
            "Requirement already satisfied: pytz>=2017.2 in /usr/local/lib/python3.6/dist-packages (from pandas>=0.24->lenskit) (2018.9)\n",
            "Requirement already satisfied: python-dateutil>=2.7.3 in /usr/local/lib/python3.6/dist-packages (from pandas>=0.24->lenskit) (2.8.1)\n",
            "Requirement already satisfied: six>=1.5 in /usr/local/lib/python3.6/dist-packages (from python-dateutil>=2.7.3->pandas>=0.24->lenskit) (1.15.0)\n"
          ],
          "name": "stdout"
        }
      ]
    },
    {
      "cell_type": "markdown",
      "metadata": {
        "id": "FDSueVXsSJo9"
      },
      "source": [
        "## Read and filter data"
      ]
    },
    {
      "cell_type": "code",
      "metadata": {
        "colab": {
          "base_uri": "https://localhost:8080/"
        },
        "id": "6pkzl93Be3vn",
        "outputId": "2383f8ff-08dc-4c0c-d15c-ca78be1c0f14"
      },
      "source": [
        "df = pd.read_csv('df_yelp_200K.csv')"
      ],
      "execution_count": 4,
      "outputs": [
        {
          "output_type": "stream",
          "text": [
            "/usr/local/lib/python3.6/dist-packages/IPython/core/interactiveshell.py:2718: DtypeWarning: Columns (36) have mixed types.Specify dtype option on import or set low_memory=False.\n",
            "  interactivity=interactivity, compiler=compiler, result=result)\n"
          ],
          "name": "stderr"
        }
      ]
    },
    {
      "cell_type": "code",
      "metadata": {
        "colab": {
          "base_uri": "https://localhost:8080/",
          "height": 686
        },
        "id": "d1ByvI-2FvCJ",
        "outputId": "5888b144-de87-4e56-ac05-c474874c239f"
      },
      "source": [
        "df.head()"
      ],
      "execution_count": 5,
      "outputs": [
        {
          "output_type": "execute_result",
          "data": {
            "text/html": [
              "<div>\n",
              "<style scoped>\n",
              "    .dataframe tbody tr th:only-of-type {\n",
              "        vertical-align: middle;\n",
              "    }\n",
              "\n",
              "    .dataframe tbody tr th {\n",
              "        vertical-align: top;\n",
              "    }\n",
              "\n",
              "    .dataframe thead th {\n",
              "        text-align: right;\n",
              "    }\n",
              "</style>\n",
              "<table border=\"1\" class=\"dataframe\">\n",
              "  <thead>\n",
              "    <tr style=\"text-align: right;\">\n",
              "      <th></th>\n",
              "      <th>review_id</th>\n",
              "      <th>user_id</th>\n",
              "      <th>business_id</th>\n",
              "      <th>review_stars</th>\n",
              "      <th>useful_x</th>\n",
              "      <th>funny_x</th>\n",
              "      <th>cool_x</th>\n",
              "      <th>text_x</th>\n",
              "      <th>date</th>\n",
              "      <th>Unnamed: 0_x</th>\n",
              "      <th>name_x</th>\n",
              "      <th>review_count_x</th>\n",
              "      <th>yelping_since</th>\n",
              "      <th>useful_y</th>\n",
              "      <th>funny_y</th>\n",
              "      <th>cool_y</th>\n",
              "      <th>elite</th>\n",
              "      <th>friends</th>\n",
              "      <th>fans</th>\n",
              "      <th>average_stars</th>\n",
              "      <th>compliment_hot</th>\n",
              "      <th>compliment_more</th>\n",
              "      <th>compliment_profile</th>\n",
              "      <th>compliment_cute</th>\n",
              "      <th>compliment_list</th>\n",
              "      <th>compliment_note</th>\n",
              "      <th>compliment_plain</th>\n",
              "      <th>compliment_cool</th>\n",
              "      <th>compliment_funny</th>\n",
              "      <th>compliment_writer</th>\n",
              "      <th>compliment_photos</th>\n",
              "      <th>Unnamed: 0_y</th>\n",
              "      <th>name_y</th>\n",
              "      <th>address</th>\n",
              "      <th>city</th>\n",
              "      <th>state</th>\n",
              "      <th>postal_code</th>\n",
              "      <th>latitude</th>\n",
              "      <th>longitude</th>\n",
              "      <th>stars</th>\n",
              "      <th>review_count_y</th>\n",
              "      <th>is_open</th>\n",
              "      <th>attributes</th>\n",
              "      <th>categories</th>\n",
              "      <th>hours</th>\n",
              "    </tr>\n",
              "  </thead>\n",
              "  <tbody>\n",
              "    <tr>\n",
              "      <th>0</th>\n",
              "      <td>G1rbhEyMUVnFIq1kAT8jCg</td>\n",
              "      <td>nIJD_7ZXHq-FX8byPMOkMQ</td>\n",
              "      <td>J8GuDrqeLH1xMpSpeEixYA</td>\n",
              "      <td>2.0</td>\n",
              "      <td>2.0</td>\n",
              "      <td>1.0</td>\n",
              "      <td>0.0</td>\n",
              "      <td>I don't get all the hype. This place was about...</td>\n",
              "      <td>2014-05-25 15:43:01</td>\n",
              "      <td>28831</td>\n",
              "      <td>Nicole</td>\n",
              "      <td>36</td>\n",
              "      <td>2008-09-19 23:34:49</td>\n",
              "      <td>46</td>\n",
              "      <td>24</td>\n",
              "      <td>13</td>\n",
              "      <td>NaN</td>\n",
              "      <td>B5vnnBub9sscTix_tPAwUw, FKFWX9kiyTvJY8_P9j_Rmw...</td>\n",
              "      <td>0</td>\n",
              "      <td>2.89</td>\n",
              "      <td>0</td>\n",
              "      <td>0</td>\n",
              "      <td>0</td>\n",
              "      <td>1</td>\n",
              "      <td>0</td>\n",
              "      <td>3</td>\n",
              "      <td>2</td>\n",
              "      <td>0</td>\n",
              "      <td>0</td>\n",
              "      <td>0</td>\n",
              "      <td>0</td>\n",
              "      <td>207023</td>\n",
              "      <td>Biscuits</td>\n",
              "      <td>1235 N Gilbert Rd</td>\n",
              "      <td>Gilbert</td>\n",
              "      <td>AZ</td>\n",
              "      <td>85234</td>\n",
              "      <td>33.372971</td>\n",
              "      <td>-111.78946</td>\n",
              "      <td>4.0</td>\n",
              "      <td>291</td>\n",
              "      <td>1</td>\n",
              "      <td>{'Caters': 'False', 'GoodForKids': 'True', 'Bi...</td>\n",
              "      <td>Restaurants, Breakfast &amp; Brunch</td>\n",
              "      <td>{'Monday': '7:0-13:0', 'Tuesday': '7:0-13:0', ...</td>\n",
              "    </tr>\n",
              "    <tr>\n",
              "      <th>1</th>\n",
              "      <td>OtH9uCUr5e2Kz12F1LboXA</td>\n",
              "      <td>pu_AQig2fw40PshvtgONPQ</td>\n",
              "      <td>J8GuDrqeLH1xMpSpeEixYA</td>\n",
              "      <td>2.0</td>\n",
              "      <td>7.0</td>\n",
              "      <td>2.0</td>\n",
              "      <td>2.0</td>\n",
              "      <td>Yes, the biscuits are delicious enough to repr...</td>\n",
              "      <td>2013-07-22 00:00:20</td>\n",
              "      <td>10457</td>\n",
              "      <td>Stephanie</td>\n",
              "      <td>471</td>\n",
              "      <td>2010-02-13 01:05:36</td>\n",
              "      <td>1433</td>\n",
              "      <td>517</td>\n",
              "      <td>591</td>\n",
              "      <td>2012,2013,2014,2015,2016,2017,2018</td>\n",
              "      <td>SCo1UBoeN3bhRMkSYuiX1A, rA97zeqOrUYuEM69n0Xn4w...</td>\n",
              "      <td>46</td>\n",
              "      <td>3.66</td>\n",
              "      <td>26</td>\n",
              "      <td>8</td>\n",
              "      <td>2</td>\n",
              "      <td>4</td>\n",
              "      <td>0</td>\n",
              "      <td>22</td>\n",
              "      <td>55</td>\n",
              "      <td>58</td>\n",
              "      <td>58</td>\n",
              "      <td>28</td>\n",
              "      <td>6</td>\n",
              "      <td>207023</td>\n",
              "      <td>Biscuits</td>\n",
              "      <td>1235 N Gilbert Rd</td>\n",
              "      <td>Gilbert</td>\n",
              "      <td>AZ</td>\n",
              "      <td>85234</td>\n",
              "      <td>33.372971</td>\n",
              "      <td>-111.78946</td>\n",
              "      <td>4.0</td>\n",
              "      <td>291</td>\n",
              "      <td>1</td>\n",
              "      <td>{'Caters': 'False', 'GoodForKids': 'True', 'Bi...</td>\n",
              "      <td>Restaurants, Breakfast &amp; Brunch</td>\n",
              "      <td>{'Monday': '7:0-13:0', 'Tuesday': '7:0-13:0', ...</td>\n",
              "    </tr>\n",
              "    <tr>\n",
              "      <th>2</th>\n",
              "      <td>UcQhHkWR8YfIOWeLzjflNA</td>\n",
              "      <td>xUhKi3p2BRTEbTHtJz-Hhg</td>\n",
              "      <td>J8GuDrqeLH1xMpSpeEixYA</td>\n",
              "      <td>4.0</td>\n",
              "      <td>0.0</td>\n",
              "      <td>1.0</td>\n",
              "      <td>0.0</td>\n",
              "      <td>I'm... Kind of confused. This Biscuits isn't p...</td>\n",
              "      <td>2017-10-13 20:04:10</td>\n",
              "      <td>49232</td>\n",
              "      <td>S.Ellen</td>\n",
              "      <td>59</td>\n",
              "      <td>2011-10-08 00:06:58</td>\n",
              "      <td>113</td>\n",
              "      <td>25</td>\n",
              "      <td>10</td>\n",
              "      <td>NaN</td>\n",
              "      <td>FHAVmMKWq6sJoiiUXxHGsA, TSpAeuGiXrzTXpSdk35CBw...</td>\n",
              "      <td>3</td>\n",
              "      <td>3.56</td>\n",
              "      <td>0</td>\n",
              "      <td>0</td>\n",
              "      <td>0</td>\n",
              "      <td>0</td>\n",
              "      <td>0</td>\n",
              "      <td>0</td>\n",
              "      <td>3</td>\n",
              "      <td>0</td>\n",
              "      <td>0</td>\n",
              "      <td>0</td>\n",
              "      <td>0</td>\n",
              "      <td>207023</td>\n",
              "      <td>Biscuits</td>\n",
              "      <td>1235 N Gilbert Rd</td>\n",
              "      <td>Gilbert</td>\n",
              "      <td>AZ</td>\n",
              "      <td>85234</td>\n",
              "      <td>33.372971</td>\n",
              "      <td>-111.78946</td>\n",
              "      <td>4.0</td>\n",
              "      <td>291</td>\n",
              "      <td>1</td>\n",
              "      <td>{'Caters': 'False', 'GoodForKids': 'True', 'Bi...</td>\n",
              "      <td>Restaurants, Breakfast &amp; Brunch</td>\n",
              "      <td>{'Monday': '7:0-13:0', 'Tuesday': '7:0-13:0', ...</td>\n",
              "    </tr>\n",
              "    <tr>\n",
              "      <th>3</th>\n",
              "      <td>IJj3by6GI9jV8d5wI46Taw</td>\n",
              "      <td>Vv1jaDcK9fdaqGwODB0AcA</td>\n",
              "      <td>J8GuDrqeLH1xMpSpeEixYA</td>\n",
              "      <td>3.0</td>\n",
              "      <td>0.0</td>\n",
              "      <td>0.0</td>\n",
              "      <td>0.0</td>\n",
              "      <td>Decent southern food. Great Biscuits!!  I woul...</td>\n",
              "      <td>2013-08-07 01:47:22</td>\n",
              "      <td>24472</td>\n",
              "      <td>Bruce</td>\n",
              "      <td>227</td>\n",
              "      <td>2010-12-26 17:06:24</td>\n",
              "      <td>150</td>\n",
              "      <td>35</td>\n",
              "      <td>42</td>\n",
              "      <td>2018</td>\n",
              "      <td>klIN1493a7XioyRXqZHBaQ, thaI8-KSPoMXQe3lOrUA6g...</td>\n",
              "      <td>2</td>\n",
              "      <td>3.52</td>\n",
              "      <td>0</td>\n",
              "      <td>1</td>\n",
              "      <td>0</td>\n",
              "      <td>0</td>\n",
              "      <td>0</td>\n",
              "      <td>3</td>\n",
              "      <td>8</td>\n",
              "      <td>4</td>\n",
              "      <td>4</td>\n",
              "      <td>4</td>\n",
              "      <td>0</td>\n",
              "      <td>207023</td>\n",
              "      <td>Biscuits</td>\n",
              "      <td>1235 N Gilbert Rd</td>\n",
              "      <td>Gilbert</td>\n",
              "      <td>AZ</td>\n",
              "      <td>85234</td>\n",
              "      <td>33.372971</td>\n",
              "      <td>-111.78946</td>\n",
              "      <td>4.0</td>\n",
              "      <td>291</td>\n",
              "      <td>1</td>\n",
              "      <td>{'Caters': 'False', 'GoodForKids': 'True', 'Bi...</td>\n",
              "      <td>Restaurants, Breakfast &amp; Brunch</td>\n",
              "      <td>{'Monday': '7:0-13:0', 'Tuesday': '7:0-13:0', ...</td>\n",
              "    </tr>\n",
              "    <tr>\n",
              "      <th>4</th>\n",
              "      <td>ynCKeNNCL76ws3W3AtbAKQ</td>\n",
              "      <td>ZefHQwjj3b7mxi46oKik-g</td>\n",
              "      <td>J8GuDrqeLH1xMpSpeEixYA</td>\n",
              "      <td>3.0</td>\n",
              "      <td>0.0</td>\n",
              "      <td>0.0</td>\n",
              "      <td>0.0</td>\n",
              "      <td>I woke up this morning dreaming of biscuits an...</td>\n",
              "      <td>2016-08-06 16:07:00</td>\n",
              "      <td>88838</td>\n",
              "      <td>Patrick</td>\n",
              "      <td>100</td>\n",
              "      <td>2015-03-12 21:53:16</td>\n",
              "      <td>23</td>\n",
              "      <td>15</td>\n",
              "      <td>11</td>\n",
              "      <td>NaN</td>\n",
              "      <td>SArE5Yd9m6oeCvr6AUOsRw, jjIzxPqFMLsUccPG2Fuvog...</td>\n",
              "      <td>0</td>\n",
              "      <td>4.08</td>\n",
              "      <td>0</td>\n",
              "      <td>0</td>\n",
              "      <td>0</td>\n",
              "      <td>0</td>\n",
              "      <td>0</td>\n",
              "      <td>1</td>\n",
              "      <td>0</td>\n",
              "      <td>0</td>\n",
              "      <td>0</td>\n",
              "      <td>0</td>\n",
              "      <td>0</td>\n",
              "      <td>207023</td>\n",
              "      <td>Biscuits</td>\n",
              "      <td>1235 N Gilbert Rd</td>\n",
              "      <td>Gilbert</td>\n",
              "      <td>AZ</td>\n",
              "      <td>85234</td>\n",
              "      <td>33.372971</td>\n",
              "      <td>-111.78946</td>\n",
              "      <td>4.0</td>\n",
              "      <td>291</td>\n",
              "      <td>1</td>\n",
              "      <td>{'Caters': 'False', 'GoodForKids': 'True', 'Bi...</td>\n",
              "      <td>Restaurants, Breakfast &amp; Brunch</td>\n",
              "      <td>{'Monday': '7:0-13:0', 'Tuesday': '7:0-13:0', ...</td>\n",
              "    </tr>\n",
              "  </tbody>\n",
              "</table>\n",
              "</div>"
            ],
            "text/plain": [
              "                review_id  ...                                              hours\n",
              "0  G1rbhEyMUVnFIq1kAT8jCg  ...  {'Monday': '7:0-13:0', 'Tuesday': '7:0-13:0', ...\n",
              "1  OtH9uCUr5e2Kz12F1LboXA  ...  {'Monday': '7:0-13:0', 'Tuesday': '7:0-13:0', ...\n",
              "2  UcQhHkWR8YfIOWeLzjflNA  ...  {'Monday': '7:0-13:0', 'Tuesday': '7:0-13:0', ...\n",
              "3  IJj3by6GI9jV8d5wI46Taw  ...  {'Monday': '7:0-13:0', 'Tuesday': '7:0-13:0', ...\n",
              "4  ynCKeNNCL76ws3W3AtbAKQ  ...  {'Monday': '7:0-13:0', 'Tuesday': '7:0-13:0', ...\n",
              "\n",
              "[5 rows x 45 columns]"
            ]
          },
          "metadata": {
            "tags": []
          },
          "execution_count": 5
        }
      ]
    },
    {
      "cell_type": "code",
      "metadata": {
        "id": "GpXg1H7JFSfc"
      },
      "source": [
        "cats = ['Restaurant', 'Restaurants', 'Cafes', 'Bakeries', 'Bars', 'Desserts', 'Coffee & Tea', 'Juice Bars & Smoothies', 'Food Trucks', 'Caterers', 'Coffee Roasteries', 'Delicatessen', 'Deli']\n",
        "df_food = df[df['categories'].str.contains('|'.join(cats), regex=True, na=False)]"
      ],
      "execution_count": 6,
      "outputs": []
    },
    {
      "cell_type": "code",
      "metadata": {
        "colab": {
          "base_uri": "https://localhost:8080/",
          "height": 402
        },
        "id": "-tkNn6cQe8nv",
        "outputId": "5e5377d4-4890-4e06-bc0b-f2a00ebd4111"
      },
      "source": [
        "df_consolidated = df_food[['review_id','user_id','business_id','name_y','name_x','review_stars']]\n",
        "df_consolidated.columns = ['review_id','user','item','Restaurant Name', 'User Name', 'rating']\n",
        "df_consolidated"
      ],
      "execution_count": 7,
      "outputs": [
        {
          "output_type": "execute_result",
          "data": {
            "text/html": [
              "<div>\n",
              "<style scoped>\n",
              "    .dataframe tbody tr th:only-of-type {\n",
              "        vertical-align: middle;\n",
              "    }\n",
              "\n",
              "    .dataframe tbody tr th {\n",
              "        vertical-align: top;\n",
              "    }\n",
              "\n",
              "    .dataframe thead th {\n",
              "        text-align: right;\n",
              "    }\n",
              "</style>\n",
              "<table border=\"1\" class=\"dataframe\">\n",
              "  <thead>\n",
              "    <tr style=\"text-align: right;\">\n",
              "      <th></th>\n",
              "      <th>review_id</th>\n",
              "      <th>user</th>\n",
              "      <th>item</th>\n",
              "      <th>Restaurant Name</th>\n",
              "      <th>User Name</th>\n",
              "      <th>rating</th>\n",
              "    </tr>\n",
              "  </thead>\n",
              "  <tbody>\n",
              "    <tr>\n",
              "      <th>0</th>\n",
              "      <td>G1rbhEyMUVnFIq1kAT8jCg</td>\n",
              "      <td>nIJD_7ZXHq-FX8byPMOkMQ</td>\n",
              "      <td>J8GuDrqeLH1xMpSpeEixYA</td>\n",
              "      <td>Biscuits</td>\n",
              "      <td>Nicole</td>\n",
              "      <td>2.0</td>\n",
              "    </tr>\n",
              "    <tr>\n",
              "      <th>1</th>\n",
              "      <td>OtH9uCUr5e2Kz12F1LboXA</td>\n",
              "      <td>pu_AQig2fw40PshvtgONPQ</td>\n",
              "      <td>J8GuDrqeLH1xMpSpeEixYA</td>\n",
              "      <td>Biscuits</td>\n",
              "      <td>Stephanie</td>\n",
              "      <td>2.0</td>\n",
              "    </tr>\n",
              "    <tr>\n",
              "      <th>2</th>\n",
              "      <td>UcQhHkWR8YfIOWeLzjflNA</td>\n",
              "      <td>xUhKi3p2BRTEbTHtJz-Hhg</td>\n",
              "      <td>J8GuDrqeLH1xMpSpeEixYA</td>\n",
              "      <td>Biscuits</td>\n",
              "      <td>S.Ellen</td>\n",
              "      <td>4.0</td>\n",
              "    </tr>\n",
              "    <tr>\n",
              "      <th>3</th>\n",
              "      <td>IJj3by6GI9jV8d5wI46Taw</td>\n",
              "      <td>Vv1jaDcK9fdaqGwODB0AcA</td>\n",
              "      <td>J8GuDrqeLH1xMpSpeEixYA</td>\n",
              "      <td>Biscuits</td>\n",
              "      <td>Bruce</td>\n",
              "      <td>3.0</td>\n",
              "    </tr>\n",
              "    <tr>\n",
              "      <th>4</th>\n",
              "      <td>ynCKeNNCL76ws3W3AtbAKQ</td>\n",
              "      <td>ZefHQwjj3b7mxi46oKik-g</td>\n",
              "      <td>J8GuDrqeLH1xMpSpeEixYA</td>\n",
              "      <td>Biscuits</td>\n",
              "      <td>Patrick</td>\n",
              "      <td>3.0</td>\n",
              "    </tr>\n",
              "    <tr>\n",
              "      <th>...</th>\n",
              "      <td>...</td>\n",
              "      <td>...</td>\n",
              "      <td>...</td>\n",
              "      <td>...</td>\n",
              "      <td>...</td>\n",
              "      <td>...</td>\n",
              "    </tr>\n",
              "    <tr>\n",
              "      <th>231249</th>\n",
              "      <td>_1YbYZ2GJZlKrDu6EFVtAw</td>\n",
              "      <td>LLIIiAToOMcywsSXQ_GUFA</td>\n",
              "      <td>PHcUGebard-dEWiCsj1n3A</td>\n",
              "      <td>More Than Subs</td>\n",
              "      <td>Jeff</td>\n",
              "      <td>4.0</td>\n",
              "    </tr>\n",
              "    <tr>\n",
              "      <th>231250</th>\n",
              "      <td>1DJ7xjpWtiLMM-LZPn1RpA</td>\n",
              "      <td>UESlXDRD_p0xNRwsX_5DLA</td>\n",
              "      <td>PHcUGebard-dEWiCsj1n3A</td>\n",
              "      <td>More Than Subs</td>\n",
              "      <td>Kevin</td>\n",
              "      <td>5.0</td>\n",
              "    </tr>\n",
              "    <tr>\n",
              "      <th>231251</th>\n",
              "      <td>hVU5SlPgCFcsvAQpJeGSNA</td>\n",
              "      <td>BiZGZ1Eqgk6dYu4HqXVZPQ</td>\n",
              "      <td>dWAeacCm6mpR_fQ5qb8ohA</td>\n",
              "      <td>Super Carniceria Los Alamos</td>\n",
              "      <td>Valeria</td>\n",
              "      <td>3.0</td>\n",
              "    </tr>\n",
              "    <tr>\n",
              "      <th>231252</th>\n",
              "      <td>4B4L9maUCxOFq_7tdXE9dw</td>\n",
              "      <td>fIXypw8NNwkuZVQ6TfzPnA</td>\n",
              "      <td>dWAeacCm6mpR_fQ5qb8ohA</td>\n",
              "      <td>Super Carniceria Los Alamos</td>\n",
              "      <td>Gabriel</td>\n",
              "      <td>5.0</td>\n",
              "    </tr>\n",
              "    <tr>\n",
              "      <th>231253</th>\n",
              "      <td>p5035RntuoAhT-XKEAwIeA</td>\n",
              "      <td>AVN0eOWxqJDMD9nVV0xA3w</td>\n",
              "      <td>dWAeacCm6mpR_fQ5qb8ohA</td>\n",
              "      <td>Super Carniceria Los Alamos</td>\n",
              "      <td>Mike</td>\n",
              "      <td>1.0</td>\n",
              "    </tr>\n",
              "  </tbody>\n",
              "</table>\n",
              "<p>231254 rows × 6 columns</p>\n",
              "</div>"
            ],
            "text/plain": [
              "                     review_id                    user  ...  User Name rating\n",
              "0       G1rbhEyMUVnFIq1kAT8jCg  nIJD_7ZXHq-FX8byPMOkMQ  ...     Nicole    2.0\n",
              "1       OtH9uCUr5e2Kz12F1LboXA  pu_AQig2fw40PshvtgONPQ  ...  Stephanie    2.0\n",
              "2       UcQhHkWR8YfIOWeLzjflNA  xUhKi3p2BRTEbTHtJz-Hhg  ...    S.Ellen    4.0\n",
              "3       IJj3by6GI9jV8d5wI46Taw  Vv1jaDcK9fdaqGwODB0AcA  ...      Bruce    3.0\n",
              "4       ynCKeNNCL76ws3W3AtbAKQ  ZefHQwjj3b7mxi46oKik-g  ...    Patrick    3.0\n",
              "...                        ...                     ...  ...        ...    ...\n",
              "231249  _1YbYZ2GJZlKrDu6EFVtAw  LLIIiAToOMcywsSXQ_GUFA  ...       Jeff    4.0\n",
              "231250  1DJ7xjpWtiLMM-LZPn1RpA  UESlXDRD_p0xNRwsX_5DLA  ...      Kevin    5.0\n",
              "231251  hVU5SlPgCFcsvAQpJeGSNA  BiZGZ1Eqgk6dYu4HqXVZPQ  ...    Valeria    3.0\n",
              "231252  4B4L9maUCxOFq_7tdXE9dw  fIXypw8NNwkuZVQ6TfzPnA  ...    Gabriel    5.0\n",
              "231253  p5035RntuoAhT-XKEAwIeA  AVN0eOWxqJDMD9nVV0xA3w  ...       Mike    1.0\n",
              "\n",
              "[231254 rows x 6 columns]"
            ]
          },
          "metadata": {
            "tags": []
          },
          "execution_count": 7
        }
      ]
    },
    {
      "cell_type": "markdown",
      "metadata": {
        "id": "ZNaMYHxWSOLo"
      },
      "source": [
        "## Method to calculate user-based precision and recall"
      ]
    },
    {
      "cell_type": "code",
      "metadata": {
        "id": "KTP81lFLhi9_"
      },
      "source": [
        "def precision_recall_at_k(predictions, k=10, threshold=3.5):\n",
        "    '''Return precision and recall at k metrics for each user.'''\n",
        "\n",
        "    # First map the predictions to each user.\n",
        "    user_est_true = defaultdict(list)\n",
        "    for uid, _, true_r, est, _ in predictions:\n",
        "        user_est_true[uid].append((est, true_r))\n",
        "\n",
        "    precisions = dict()\n",
        "    recalls = dict()\n",
        "    for uid, user_ratings in user_est_true.items():\n",
        "\n",
        "        # Sort user ratings by estimated value\n",
        "        user_ratings.sort(key=lambda x: x[0], reverse=True)\n",
        "\n",
        "        # Number of relevant items\n",
        "        n_rel = sum((true_r >= threshold) for (_, true_r) in user_ratings)\n",
        "\n",
        "        # Number of recommended items in top k\n",
        "        n_rec_k = sum((est >= threshold) for (est, _) in user_ratings[:k])\n",
        "\n",
        "        # Number of relevant and recommended items in top k\n",
        "        n_rel_and_rec_k = sum(((true_r >= threshold) and (est >= threshold))\n",
        "                              for (est, true_r) in user_ratings[:k])\n",
        "\n",
        "        # Precision@K: Proportion of recommended items that are relevant\n",
        "        precisions[uid] = n_rel_and_rec_k / n_rec_k if n_rec_k != 0 else 1\n",
        "\n",
        "        # Recall@K: Proportion of relevant items that are recommended\n",
        "        recalls[uid] = n_rel_and_rec_k / n_rel if n_rel != 0 else 1\n",
        "\n",
        "    return precisions, recalls"
      ],
      "execution_count": 8,
      "outputs": []
    },
    {
      "cell_type": "markdown",
      "metadata": {
        "id": "SVIU9CqNSTgY"
      },
      "source": [
        "## Variable declaration"
      ]
    },
    {
      "cell_type": "code",
      "metadata": {
        "id": "prPED-vhS1NV"
      },
      "source": [
        "N_SPLITS = 5\n",
        "FRAC_SPLIT = 0.2\n",
        "seed = 111\n",
        "train_test_files = []"
      ],
      "execution_count": 9,
      "outputs": []
    },
    {
      "cell_type": "markdown",
      "metadata": {
        "id": "8NfQw4iTSYhZ"
      },
      "source": [
        "## K-fold cross validation"
      ]
    },
    {
      "cell_type": "code",
      "metadata": {
        "id": "SCi_HEu0fiRf"
      },
      "source": [
        "i=1\n",
        "data = df_consolidated[['user', 'item', 'rating']]\n",
        "\n",
        "for train_val, test in partition_users(data, N_SPLITS, SampleFrac(FRAC_SPLIT)):\n",
        "    train_val_file = \"train_val_\"+str(i)+\".csv\"\n",
        "    train_val.to_csv(train_val_file, index=False, header=False)\n",
        "    test_file = \"test_\"+str(i)+\".csv\"\n",
        "    test.to_csv(test_file, index=False, header=False)\n",
        "    train_test_files.append((train_val_file, test_file))\n",
        "    i+=1"
      ],
      "execution_count": 10,
      "outputs": []
    },
    {
      "cell_type": "code",
      "metadata": {
        "id": "Wjtiw5VekBc6"
      },
      "source": [
        "for i in range(1, N_SPLITS+1):\n",
        "    train_val_file = \"train_val_\"+str(i)+\".csv\"\n",
        "    test_file = \"test_\"+str(i)+\".csv\"\n",
        "    train_test_files.append((train_val_file, test_file))"
      ],
      "execution_count": 10,
      "outputs": []
    },
    {
      "cell_type": "markdown",
      "metadata": {
        "id": "U6pc7RZtSgP5"
      },
      "source": [
        "## Grid Search for hyperparameter optimization on SVD"
      ]
    },
    {
      "cell_type": "code",
      "metadata": {
        "colab": {
          "base_uri": "https://localhost:8080/"
        },
        "id": "9R5v6u-NUnnR",
        "outputId": "933c2c84-2b3f-4845-f067-614ec95adb48"
      },
      "source": [
        "reader = Reader(line_format='user item rating', sep=',')\n",
        "data = Dataset.load_from_folds(train_test_files, reader=reader)\n",
        "pkf = PredefinedKFold()\n",
        "param_grid = {'n_epochs': [5, 10, 20, 30], 'lr_all': [0.001, 0.005, 0.01, 0.1],\n",
        "              'reg_all': [0.02, 0.2, 2], 'random_state': [seed]}\n",
        "gs = GridSearchCV(SVD, param_grid, measures=['rmse', 'mae'], cv=pkf)\n",
        "gs.fit(data)\n",
        "\n",
        "# best RMSE score\n",
        "print(gs.best_score['rmse'])\n",
        "\n",
        "# combination of parameters that gave the best RMSE score\n",
        "print(gs.best_params['rmse'])"
      ],
      "execution_count": 11,
      "outputs": [
        {
          "output_type": "stream",
          "text": [
            "1.0609247453854116\n",
            "{'n_epochs': 30, 'lr_all': 0.005, 'reg_all': 0.2, 'random_state': 111}\n"
          ],
          "name": "stdout"
        }
      ]
    },
    {
      "cell_type": "markdown",
      "metadata": {
        "id": "7Uqe4MTvSmJl"
      },
      "source": [
        "## Store results to CSV file"
      ]
    },
    {
      "cell_type": "code",
      "metadata": {
        "id": "g_vapWVjpCMv"
      },
      "source": [
        "results_df = pd.DataFrame.from_dict(gs.cv_results)\n",
        "results = results_df[['mean_test_rmse', 'std_test_rmse', 'mean_test_mae', 'std_test_mae', 'param_n_epochs', 'param_lr_all', 'param_reg_all']]\n",
        "results.to_csv(\"SVD_results.csv\")"
      ],
      "execution_count": 12,
      "outputs": []
    },
    {
      "cell_type": "markdown",
      "metadata": {
        "id": "Ow4OkPl6Sqbm"
      },
      "source": [
        "## Grid Search for hyperparameter optimization on SVD++"
      ]
    },
    {
      "cell_type": "code",
      "metadata": {
        "colab": {
          "base_uri": "https://localhost:8080/"
        },
        "id": "XJzX2rtllERm",
        "outputId": "245f4e9b-2b97-44c5-d1e4-85ca40273ffe"
      },
      "source": [
        "# reader = Reader(line_format='user item rating', sep=',')\n",
        "# data = Dataset.load_from_folds(train_test_files, reader=reader)\n",
        "# pkf = PredefinedKFold()\n",
        "# param_grid = {'n_epochs': [5, 10, 20, 30], 'lr_all': [0.001, 0.005, 0.01, 0.1],\n",
        "#               'reg_all': [0.02, 0.2, 2], 'random_state': [seed]}\n",
        "gs = GridSearchCV(SVDpp, param_grid, measures=['rmse', 'mae'], cv=pkf)\n",
        "gs.fit(data)\n",
        "\n",
        "# best RMSE score\n",
        "print(gs.best_score['rmse'])\n",
        "\n",
        "# combination of parameters that gave the best RMSE score\n",
        "print(gs.best_params['rmse'])"
      ],
      "execution_count": 13,
      "outputs": [
        {
          "output_type": "stream",
          "text": [
            "1.0610234810135561\n",
            "{'n_epochs': 30, 'lr_all': 0.005, 'reg_all': 0.2, 'random_state': 111}\n"
          ],
          "name": "stdout"
        }
      ]
    },
    {
      "cell_type": "markdown",
      "metadata": {
        "id": "7XQPbR-jStDy"
      },
      "source": [
        "## Store results to CSV file"
      ]
    },
    {
      "cell_type": "code",
      "metadata": {
        "id": "28p7cu_pRRuB"
      },
      "source": [
        "results_df = pd.DataFrame.from_dict(gs.cv_results)\n",
        "results = results_df[['mean_test_rmse', 'std_test_rmse', 'mean_test_mae', 'std_test_mae', 'param_n_epochs', 'param_lr_all', 'param_reg_all']]\n",
        "results.to_csv(\"SVDpp_results.csv\")"
      ],
      "execution_count": 14,
      "outputs": []
    },
    {
      "cell_type": "markdown",
      "metadata": {
        "id": "Xn4-_wGNS1bX"
      },
      "source": [
        "## SVD with tuned hyperparameters"
      ]
    },
    {
      "cell_type": "code",
      "metadata": {
        "id": "HV7LHu41feBK",
        "colab": {
          "base_uri": "https://localhost:8080/"
        },
        "outputId": "35b54125-d0dd-4a82-bad3-b8137142a2bb"
      },
      "source": [
        "prec_to_ave = []\n",
        "rec_to_ave = []\n",
        "rmse_to_ave = []\n",
        "mae_to_ave = []\n",
        "\n",
        "reader = Reader(line_format='user item rating', sep=',')\n",
        "data = Dataset.load_from_folds(train_test_files, reader=reader)\n",
        "pkf = PredefinedKFold()\n",
        "algo = SVD(n_epochs=30, reg_all=0.2, random_state=seed)\n",
        "for trainset, testset in pkf.split(data):\n",
        "    algo.fit(trainset)\n",
        "    predictions = algo.test(testset)\n",
        "    precisions, recalls = precision_recall_at_k(predictions, k=5, threshold=4)\n",
        "    # Precision and recall can then be averaged over all users\n",
        "    prec_to_ave.append(sum(prec for prec in precisions.values()) / len(precisions))\n",
        "    rec_to_ave.append(sum(rec for rec in recalls.values()) / len(recalls))\n",
        "    rmse_to_ave.append(accuracy.rmse(predictions))\n",
        "    mae_to_ave.append(accuracy.mae(predictions))"
      ],
      "execution_count": 15,
      "outputs": [
        {
          "output_type": "stream",
          "text": [
            "RMSE: 1.0659\n",
            "MAE:  0.8389\n",
            "RMSE: 1.0778\n",
            "MAE:  0.8541\n",
            "RMSE: 1.0571\n",
            "MAE:  0.8382\n",
            "RMSE: 1.0539\n",
            "MAE:  0.8341\n",
            "RMSE: 1.0499\n",
            "MAE:  0.8232\n"
          ],
          "name": "stdout"
        }
      ]
    },
    {
      "cell_type": "markdown",
      "metadata": {
        "id": "pi7_Fki3S9gj"
      },
      "source": [
        "## Metrics"
      ]
    },
    {
      "cell_type": "code",
      "metadata": {
        "colab": {
          "base_uri": "https://localhost:8080/"
        },
        "id": "-vv9Z9gdgjz3",
        "outputId": "289b43a8-6990-4b62-f9de-af98660b1aac"
      },
      "source": [
        "precision_average = sum(prec_to_ave)/len(prec_to_ave)\n",
        "recall_average = sum(rec_to_ave)/len(prec_to_ave)\n",
        "rmse_average = sum(rmse_to_ave)/len(rmse_to_ave)\n",
        "mae_average = sum(mae_to_ave)/len(mae_to_ave)\n",
        "\n",
        "print(\"Precision and Recall averages are {0} and {1}, respectively\".format(precision_average, recall_average))\n",
        "print(\"RMSE and MAE averages are {0} and {1}, respectively\".format(rmse_average, mae_average))"
      ],
      "execution_count": 16,
      "outputs": [
        {
          "output_type": "stream",
          "text": [
            "Precision and Recall averages are 0.9284994304259391 and 0.625111040117248, respectively\n",
            "RMSE and MAE averages are 1.0609247453854116 and 0.8377018748562264, respectively\n"
          ],
          "name": "stdout"
        }
      ]
    },
    {
      "cell_type": "markdown",
      "metadata": {
        "id": "NTeYxNwoTE7e"
      },
      "source": [
        "## SVD++ with tuned hyperparameters"
      ]
    },
    {
      "cell_type": "code",
      "metadata": {
        "colab": {
          "base_uri": "https://localhost:8080/"
        },
        "id": "koGoS5ldS_r-",
        "outputId": "377e8c35-a0bd-41ed-dc28-27b7fa1b50d6"
      },
      "source": [
        "prec_to_ave = []\n",
        "rec_to_ave = []\n",
        "rmse_to_ave = []\n",
        "mae_to_ave = []\n",
        "reader = Reader(line_format='user item rating', sep=',')\n",
        "data = Dataset.load_from_folds(train_test_files, reader=reader)\n",
        "pkf = PredefinedKFold()\n",
        "algo = SVDpp(n_epochs=30, reg_all=0.2, random_state=seed)\n",
        "for trainset, testset in pkf.split(data):\n",
        "    algo.fit(trainset)\n",
        "    predictions = algo.test(testset)\n",
        "    precisions, recalls = precision_recall_at_k(predictions, k=5, threshold=4)\n",
        "    # Precision and recall can then be averaged over all users\n",
        "    prec_to_ave.append(sum(prec for prec in precisions.values()) / len(precisions))\n",
        "    rec_to_ave.append(sum(rec for rec in recalls.values()) / len(recalls))\n",
        "    rmse_to_ave.append(accuracy.rmse(predictions))\n",
        "    mae_to_ave.append(accuracy.mae(predictions))"
      ],
      "execution_count": 11,
      "outputs": [
        {
          "output_type": "stream",
          "text": [
            "RMSE: 1.0677\n",
            "MAE:  0.8377\n",
            "RMSE: 1.0782\n",
            "MAE:  0.8525\n",
            "RMSE: 1.0609\n",
            "MAE:  0.8397\n",
            "RMSE: 1.0563\n",
            "MAE:  0.8329\n",
            "RMSE: 1.0532\n",
            "MAE:  0.8244\n"
          ],
          "name": "stdout"
        }
      ]
    },
    {
      "cell_type": "markdown",
      "metadata": {
        "id": "IEy7jvvKTK7F"
      },
      "source": [
        "## Metrics"
      ]
    },
    {
      "cell_type": "code",
      "metadata": {
        "colab": {
          "base_uri": "https://localhost:8080/"
        },
        "id": "YG8_dk_5TKSH",
        "outputId": "201e44d5-946e-42aa-aa96-bc5e73f68166"
      },
      "source": [
        "precision_average = sum(prec_to_ave)/len(prec_to_ave)\n",
        "recall_average = sum(rec_to_ave)/len(prec_to_ave)\n",
        "rmse_average = sum(rmse_to_ave)/len(rmse_to_ave)\n",
        "mae_average = sum(mae_to_ave)/len(mae_to_ave)\n",
        "\n",
        "print(\"Precision and Recall averages are {0} and {1}, respectively\".format(precision_average, recall_average))\n",
        "print(\"RMSE and MAE averages are {0} and {1}, respectively\".format(rmse_average, mae_average))"
      ],
      "execution_count": 12,
      "outputs": [
        {
          "output_type": "stream",
          "text": [
            "Precision and Recall averages are 0.926950745541626 and 0.6287460302504606, respectively\n",
            "RMSE and MAE averages are 1.0632564542910088 and 0.8374465187809921, respectively\n"
          ],
          "name": "stdout"
        }
      ]
    },
    {
      "cell_type": "code",
      "metadata": {
        "id": "3o9VxNaBgdau"
      },
      "source": [
        "def make_binary_tpr_fpr(predictions, threshold=3.5):\n",
        "    pred_df = pd.DataFrame(predictions)\n",
        "    pred_df['r_ui'].where(pred_df['r_ui']>threshold, 1, inplace=True)\n",
        "    pred_df['r_ui'].where(pred_df['r_ui']<=threshold, 0, inplace=True)\n",
        "    \n",
        "    pred_df['est'].where(pred_df['est']>threshold, 1, inplace=True)\n",
        "    pred_df['est'].where(pred_df['est']<=threshold, 0, inplace=True)\n",
        "\n",
        "    return pred_df['r_ui'], pred_df['est'],\n",
        "\n",
        "true_r, est = make_binary_tpr_fpr(predictions)"
      ],
      "execution_count": 32,
      "outputs": []
    }
  ]
}