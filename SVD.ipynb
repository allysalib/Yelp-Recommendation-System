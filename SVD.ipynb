{
  "nbformat": 4,
  "nbformat_minor": 0,
  "metadata": {
    "colab": {
      "name": "SVD.ipynb",
      "provenance": [],
      "collapsed_sections": []
    },
    "kernelspec": {
      "name": "python3",
      "display_name": "Python 3"
    }
  },
  "cells": [
    {
      "cell_type": "code",
      "metadata": {
        "colab": {
          "base_uri": "https://localhost:8080/"
        },
        "id": "wSQAPjug4Aaf",
        "outputId": "d85f0f13-c778-4d43-95d9-b6e9c8452204"
      },
      "source": [
        "# Load the Drive helper and mount\n",
        "from google.colab import drive\n",
        "\n",
        "# This will prompt for authorization.\n",
        "drive.mount('/content/drive')"
      ],
      "execution_count": 1,
      "outputs": [
        {
          "output_type": "stream",
          "text": [
            "Drive already mounted at /content/drive; to attempt to forcibly remount, call drive.mount(\"/content/drive\", force_remount=True).\n"
          ],
          "name": "stdout"
        }
      ]
    },
    {
      "cell_type": "code",
      "metadata": {
        "colab": {
          "base_uri": "https://localhost:8080/"
        },
        "id": "SKH9Y6by4DN-",
        "outputId": "ba393d01-b146-441f-9b28-cb524bc28c0d"
      },
      "source": [
        "cd /content/drive/'My Drive'/'SearchAndDiscoveryData'"
      ],
      "execution_count": 2,
      "outputs": [
        {
          "output_type": "stream",
          "text": [
            "/content/drive/My Drive/SearchAndDiscoveryData\n"
          ],
          "name": "stdout"
        }
      ]
    },
    {
      "cell_type": "code",
      "metadata": {
        "colab": {
          "base_uri": "https://localhost:8080/"
        },
        "id": "gwJH3B7hd-27",
        "outputId": "c2cc203a-6ba0-407e-d276-f4e9b1395c05"
      },
      "source": [
        "#!/usr/bin/env python\n",
        "!pip install surprise\n",
        "import pandas as pd\n",
        "from surprise import SVD\n",
        "from surprise import Dataset\n",
        "from surprise import accuracy\n",
        "from surprise.model_selection import train_test_split\n",
        "from surprise import KNNBasic,  KNNWithMeans, KNNBaseline\n",
        "from surprise.model_selection import KFold\n",
        "from surprise import Reader\n",
        "import matplotlib.pyplot as plt\n",
        "import seaborn as sns\n",
        "from collections import defaultdict"
      ],
      "execution_count": 3,
      "outputs": [
        {
          "output_type": "stream",
          "text": [
            "Requirement already satisfied: surprise in /usr/local/lib/python3.6/dist-packages (0.1)\n",
            "Requirement already satisfied: scikit-surprise in /usr/local/lib/python3.6/dist-packages (from surprise) (1.1.1)\n",
            "Requirement already satisfied: scipy>=1.0.0 in /usr/local/lib/python3.6/dist-packages (from scikit-surprise->surprise) (1.4.1)\n",
            "Requirement already satisfied: numpy>=1.11.2 in /usr/local/lib/python3.6/dist-packages (from scikit-surprise->surprise) (1.18.5)\n",
            "Requirement already satisfied: six>=1.10.0 in /usr/local/lib/python3.6/dist-packages (from scikit-surprise->surprise) (1.15.0)\n",
            "Requirement already satisfied: joblib>=0.11 in /usr/local/lib/python3.6/dist-packages (from scikit-surprise->surprise) (0.17.0)\n"
          ],
          "name": "stdout"
        }
      ]
    },
    {
      "cell_type": "code",
      "metadata": {
        "id": "PgnC691_ehDA"
      },
      "source": [
        "df_business = pd.read_json('yelp_academic_dataset_business.json',lines=True)\n",
        "df_user = pd.read_json('yelp_academic_dataset_user.json',lines=True)\n",
        "df_review = pd.read_json('yelp_academic_dataset_review.json',lines=True)"
      ],
      "execution_count": 4,
      "outputs": []
    },
    {
      "cell_type": "code",
      "metadata": {
        "id": "6pkzl93Be3vn"
      },
      "source": [
        "cats = ['Restaurant', 'Restaurants', 'Cafes', 'Bakeries', 'Bars', 'Desserts', 'Coffee & Tea', 'Juice Bars & Smoothies', 'Food Trucks', 'Caterers', 'Coffee Roasteries', 'Delicatessen', 'Deli']\n",
        "df_business = df_business[df_business['categories'].isin(cats)]"
      ],
      "execution_count": 5,
      "outputs": []
    },
    {
      "cell_type": "code",
      "metadata": {
        "id": "5lujILVye5nv"
      },
      "source": [
        "df_merged = df_review.merge(df_user, how='inner', left_on = ['user_id'], right_on = ['user_id'])\n",
        "df_merged = df_merged.merge(df_business, how='inner', left_on = ['business_id'], right_on = ['business_id'])"
      ],
      "execution_count": 6,
      "outputs": []
    },
    {
      "cell_type": "code",
      "metadata": {
        "colab": {
          "base_uri": "https://localhost:8080/",
          "height": 402
        },
        "id": "-tkNn6cQe8nv",
        "outputId": "e0c2d820-9eb8-4115-fb6a-6a8b6418959f"
      },
      "source": [
        "df_consolidated = df_merged[['review_id','user_id','business_id','name_y','name_x','stars_x']]\n",
        "df_consolidated.columns = ['review_id','user_id','business_id','Restaurant Name', 'User Name', 'Rating']\n",
        "df_consolidated"
      ],
      "execution_count": 7,
      "outputs": [
        {
          "output_type": "execute_result",
          "data": {
            "text/html": [
              "<div>\n",
              "<style scoped>\n",
              "    .dataframe tbody tr th:only-of-type {\n",
              "        vertical-align: middle;\n",
              "    }\n",
              "\n",
              "    .dataframe tbody tr th {\n",
              "        vertical-align: top;\n",
              "    }\n",
              "\n",
              "    .dataframe thead th {\n",
              "        text-align: right;\n",
              "    }\n",
              "</style>\n",
              "<table border=\"1\" class=\"dataframe\">\n",
              "  <thead>\n",
              "    <tr style=\"text-align: right;\">\n",
              "      <th></th>\n",
              "      <th>review_id</th>\n",
              "      <th>user_id</th>\n",
              "      <th>business_id</th>\n",
              "      <th>Restaurant Name</th>\n",
              "      <th>User Name</th>\n",
              "      <th>Rating</th>\n",
              "    </tr>\n",
              "  </thead>\n",
              "  <tbody>\n",
              "    <tr>\n",
              "      <th>0</th>\n",
              "      <td>gCn1oTcRPjg0nTNQWlFOgQ</td>\n",
              "      <td>ugr4oqMQxmLBIr9TCSePzQ</td>\n",
              "      <td>d5jY-uA0Zh33oFhENHuEcg</td>\n",
              "      <td>Saigon Kitchen</td>\n",
              "      <td>Joe</td>\n",
              "      <td>5</td>\n",
              "    </tr>\n",
              "    <tr>\n",
              "      <th>1</th>\n",
              "      <td>yUu8_Sz2ijF7jhntNTuWzQ</td>\n",
              "      <td>mthqL1PEfyseQ8PLuRs-kA</td>\n",
              "      <td>d5jY-uA0Zh33oFhENHuEcg</td>\n",
              "      <td>Saigon Kitchen</td>\n",
              "      <td>Jane</td>\n",
              "      <td>5</td>\n",
              "    </tr>\n",
              "    <tr>\n",
              "      <th>2</th>\n",
              "      <td>0Y-D-F-uk4whpo9bIh7JIA</td>\n",
              "      <td>as0LeBvM5S9MXNrNT1lSbw</td>\n",
              "      <td>d5jY-uA0Zh33oFhENHuEcg</td>\n",
              "      <td>Saigon Kitchen</td>\n",
              "      <td>Jenny</td>\n",
              "      <td>4</td>\n",
              "    </tr>\n",
              "    <tr>\n",
              "      <th>3</th>\n",
              "      <td>e8QsEfacsJNHdj_2iS9k6g</td>\n",
              "      <td>lygwv7tz0bPYi1xuXV4DaA</td>\n",
              "      <td>DlCpHyRiobzsbCKKGrQYZA</td>\n",
              "      <td>Restaurant Mangiamo</td>\n",
              "      <td>Jean-claude</td>\n",
              "      <td>5</td>\n",
              "    </tr>\n",
              "    <tr>\n",
              "      <th>4</th>\n",
              "      <td>zt3Tu6ISOCPLyRlMHrpkRQ</td>\n",
              "      <td>oEl84Dvg2RNtHs_twyh5SA</td>\n",
              "      <td>hG-okRD-mjpZQheWT9gwBg</td>\n",
              "      <td>Ollies Omelette House</td>\n",
              "      <td>Juan</td>\n",
              "      <td>1</td>\n",
              "    </tr>\n",
              "    <tr>\n",
              "      <th>5</th>\n",
              "      <td>pR-tKzS-rMI3NXrRPywCgg</td>\n",
              "      <td>-wV6SMXOVymsA6C6ztlVxw</td>\n",
              "      <td>t5SXjiQlp-0ctHzYES2Juw</td>\n",
              "      <td>Goodlake</td>\n",
              "      <td>Rob</td>\n",
              "      <td>5</td>\n",
              "    </tr>\n",
              "    <tr>\n",
              "      <th>6</th>\n",
              "      <td>TgqFFxv8JMwfKbKfE0WzxA</td>\n",
              "      <td>-wV6SMXOVymsA6C6ztlVxw</td>\n",
              "      <td>t5SXjiQlp-0ctHzYES2Juw</td>\n",
              "      <td>Goodlake</td>\n",
              "      <td>Rob</td>\n",
              "      <td>5</td>\n",
              "    </tr>\n",
              "    <tr>\n",
              "      <th>7</th>\n",
              "      <td>wQPD5gUDs2Gg_9z5JN9S2A</td>\n",
              "      <td>VgZuko0P1Pf0In9DOKBhpA</td>\n",
              "      <td>U8ypUjl42xwqh5ecQsbptw</td>\n",
              "      <td>Lake Todd Fish Camp</td>\n",
              "      <td>Roseanne</td>\n",
              "      <td>5</td>\n",
              "    </tr>\n",
              "    <tr>\n",
              "      <th>8</th>\n",
              "      <td>3R1R1ju6YWLIh3xoxwjqSg</td>\n",
              "      <td>_ixvEpV363vm5cUW52FK7g</td>\n",
              "      <td>U8ypUjl42xwqh5ecQsbptw</td>\n",
              "      <td>Lake Todd Fish Camp</td>\n",
              "      <td>Larry</td>\n",
              "      <td>4</td>\n",
              "    </tr>\n",
              "    <tr>\n",
              "      <th>9</th>\n",
              "      <td>RAGwVB3L2wGXSLVWp4yd0A</td>\n",
              "      <td>oWWNBmi5NM39QHU4q03CJA</td>\n",
              "      <td>MaiS2GYrtOGQNOdQAjsXBg</td>\n",
              "      <td>Resto Nouveau Systeme</td>\n",
              "      <td>Jordan</td>\n",
              "      <td>5</td>\n",
              "    </tr>\n",
              "    <tr>\n",
              "      <th>10</th>\n",
              "      <td>ezl_0eE5RLD3XxlGC_XUsw</td>\n",
              "      <td>kOc5a3AS-gui1HmzIPquyQ</td>\n",
              "      <td>myJKusJSWeNT6XGm9nBO8A</td>\n",
              "      <td>Rudy's Submarines</td>\n",
              "      <td>Bridget</td>\n",
              "      <td>2</td>\n",
              "    </tr>\n",
              "    <tr>\n",
              "      <th>11</th>\n",
              "      <td>GKJepkoFu_CuZKLOw-ULOA</td>\n",
              "      <td>BZm4P2q0iYwO45dVCWuADg</td>\n",
              "      <td>RkUJ2dBInkKtXBwU0CIffQ</td>\n",
              "      <td>Cafe Roma</td>\n",
              "      <td>Karen</td>\n",
              "      <td>5</td>\n",
              "    </tr>\n",
              "  </tbody>\n",
              "</table>\n",
              "</div>"
            ],
            "text/plain": [
              "                 review_id                 user_id  ...    User Name Rating\n",
              "0   gCn1oTcRPjg0nTNQWlFOgQ  ugr4oqMQxmLBIr9TCSePzQ  ...          Joe      5\n",
              "1   yUu8_Sz2ijF7jhntNTuWzQ  mthqL1PEfyseQ8PLuRs-kA  ...         Jane      5\n",
              "2   0Y-D-F-uk4whpo9bIh7JIA  as0LeBvM5S9MXNrNT1lSbw  ...        Jenny      4\n",
              "3   e8QsEfacsJNHdj_2iS9k6g  lygwv7tz0bPYi1xuXV4DaA  ...  Jean-claude      5\n",
              "4   zt3Tu6ISOCPLyRlMHrpkRQ  oEl84Dvg2RNtHs_twyh5SA  ...         Juan      1\n",
              "5   pR-tKzS-rMI3NXrRPywCgg  -wV6SMXOVymsA6C6ztlVxw  ...          Rob      5\n",
              "6   TgqFFxv8JMwfKbKfE0WzxA  -wV6SMXOVymsA6C6ztlVxw  ...          Rob      5\n",
              "7   wQPD5gUDs2Gg_9z5JN9S2A  VgZuko0P1Pf0In9DOKBhpA  ...     Roseanne      5\n",
              "8   3R1R1ju6YWLIh3xoxwjqSg  _ixvEpV363vm5cUW52FK7g  ...        Larry      4\n",
              "9   RAGwVB3L2wGXSLVWp4yd0A  oWWNBmi5NM39QHU4q03CJA  ...       Jordan      5\n",
              "10  ezl_0eE5RLD3XxlGC_XUsw  kOc5a3AS-gui1HmzIPquyQ  ...      Bridget      2\n",
              "11  GKJepkoFu_CuZKLOw-ULOA  BZm4P2q0iYwO45dVCWuADg  ...        Karen      5\n",
              "\n",
              "[12 rows x 6 columns]"
            ]
          },
          "metadata": {
            "tags": []
          },
          "execution_count": 7
        }
      ]
    },
    {
      "cell_type": "code",
      "metadata": {
        "id": "hLUDtxKTe_bf"
      },
      "source": [
        "reader = Reader(rating_scale=(1, 5))\n",
        "data = Dataset.load_from_df(df_consolidated[['user_id', 'business_id', 'Rating']], reader)"
      ],
      "execution_count": 8,
      "outputs": []
    },
    {
      "cell_type": "code",
      "metadata": {
        "id": "4CelqsbPhiYP"
      },
      "source": [
        "import matplotlib.pyplot as plt\n",
        "from sklearn.metrics import roc_auc_score, roc_curve, auc"
      ],
      "execution_count": 9,
      "outputs": []
    },
    {
      "cell_type": "code",
      "metadata": {
        "id": "KTP81lFLhi9_"
      },
      "source": [
        "def precision_recall_at_k(predictions, k=10, threshold=3.5):\n",
        "    '''Return precision and recall at k metrics for each user.'''\n",
        "\n",
        "    # First map the predictions to each user.\n",
        "    user_est_true = defaultdict(list)\n",
        "    for uid, _, true_r, est, _ in predictions:\n",
        "        user_est_true[uid].append((est, true_r))\n",
        "\n",
        "    precisions = dict()\n",
        "    recalls = dict()\n",
        "    for uid, user_ratings in user_est_true.items():\n",
        "\n",
        "        # Sort user ratings by estimated value\n",
        "        user_ratings.sort(key=lambda x: x[0], reverse=True)\n",
        "\n",
        "        # Number of relevant items\n",
        "        n_rel = sum((true_r >= threshold) for (_, true_r) in user_ratings)\n",
        "\n",
        "        # Number of recommended items in top k\n",
        "        n_rec_k = sum((est >= threshold) for (est, _) in user_ratings[:k])\n",
        "\n",
        "        # Number of relevant and recommended items in top k\n",
        "        n_rel_and_rec_k = sum(((true_r >= threshold) and (est >= threshold))\n",
        "                              for (est, true_r) in user_ratings[:k])\n",
        "\n",
        "        # Precision@K: Proportion of recommended items that are relevant\n",
        "        precisions[uid] = n_rel_and_rec_k / n_rec_k if n_rec_k != 0 else 1\n",
        "\n",
        "        # Recall@K: Proportion of relevant items that are recommended\n",
        "        recalls[uid] = n_rel_and_rec_k / n_rel if n_rel != 0 else 1\n",
        "\n",
        "    return precisions, recalls"
      ],
      "execution_count": 10,
      "outputs": []
    },
    {
      "cell_type": "code",
      "metadata": {
        "id": "K9EDG1fgfjWH"
      },
      "source": [
        "kf = KFold(n_splits=5)\n",
        "algo = SVD()\n",
        "\n",
        "prec_to_ave = []\n",
        "rec_to_ave = []\n",
        "\n",
        "for trainset, testset in kf.split(data):\n",
        "    algo.fit(trainset)\n",
        "    predictions = algo.test(testset)\n",
        "    precisions, recalls = precision_recall_at_k(predictions, k=5, threshold=4)\n",
        "\n",
        "    # Precision and recall can then be averaged over all users\n",
        "    \n",
        "    prec_to_ave.append(sum(prec for prec in precisions.values()) / len(precisions))\n",
        "    rec_to_ave.append(sum(rec for rec in recalls.values()) / len(recalls))"
      ],
      "execution_count": 11,
      "outputs": []
    },
    {
      "cell_type": "code",
      "metadata": {
        "id": "3o9VxNaBgdau"
      },
      "source": [
        "def make_binary_tpr_fpr(predictions, threshold=3.5):\n",
        "    pred_df = pd.DataFrame(predictions)\n",
        "    pred_df['r_ui'].where(pred_df['r_ui']>threshold, 1, inplace=True)\n",
        "    pred_df['r_ui'].where(pred_df['r_ui']<=threshold, 0, inplace=True)\n",
        "    \n",
        "    pred_df['est'].where(pred_df['est']>threshold, 1, inplace=True)\n",
        "    pred_df['est'].where(pred_df['est']<=threshold, 0, inplace=True)\n",
        "\n",
        "    return pred_df['r_ui'], pred_df['est'], \n",
        "\n",
        "true_r, est = make_binary_tpr_fpr(predictions)"
      ],
      "execution_count": 12,
      "outputs": []
    },
    {
      "cell_type": "code",
      "metadata": {
        "colab": {
          "base_uri": "https://localhost:8080/"
        },
        "id": "-vv9Z9gdgjz3",
        "outputId": "5209f020-48c2-4e66-a0d0-828d4ff6d70c"
      },
      "source": [
        "precision_average = sum(prec_to_ave)/len(prec_to_ave)\n",
        "recall_average = sum(rec_to_ave)/len(prec_to_ave)\n",
        "\n",
        "print(\"Precision and Recall averages are {0} and {1}, respectively\".format(precision_average, recall_average))"
      ],
      "execution_count": 13,
      "outputs": [
        {
          "output_type": "stream",
          "text": [
            "Precision and Recall averages are 0.8333333333333333 and 1.0, respectively\n"
          ],
          "name": "stdout"
        }
      ]
    }
  ]
}