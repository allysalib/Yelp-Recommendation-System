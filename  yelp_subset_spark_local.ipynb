{
 "cells": [
  {
   "cell_type": "markdown",
   "metadata": {},
   "source": [
    "# subsetting yelp data by restaurant (local)"
   ]
  },
  {
   "cell_type": "code",
   "execution_count": 1,
   "metadata": {},
   "outputs": [
    {
     "data": {
      "text/plain": [
       "'/Users/armandalewis/Desktop/s_d/sd_proj'"
      ]
     },
     "execution_count": 1,
     "metadata": {},
     "output_type": "execute_result"
    }
   ],
   "source": [
    "import os\n",
    "os.getcwd()"
   ]
  },
  {
   "cell_type": "code",
   "execution_count": 2,
   "metadata": {},
   "outputs": [
    {
     "name": "stdout",
     "output_type": "stream",
     "text": [
      "i guess it works\n"
     ]
    }
   ],
   "source": [
    "import findspark\n",
    "findspark.init()\n",
    "print (\"i guess it works\")"
   ]
  },
  {
   "cell_type": "code",
   "execution_count": 3,
   "metadata": {},
   "outputs": [],
   "source": [
    "from pyspark import SparkContext as sc\n",
    "import pandas as pd\n",
    "import os\n",
    "import numpy as np\n",
    "from pyspark.sql import SQLContext\n",
    "import json\n",
    "import pyspark"
   ]
  },
  {
   "cell_type": "code",
   "execution_count": 4,
   "metadata": {},
   "outputs": [],
   "source": [
    "sc = sc(appName=\"yelp\")\n",
    "mySpark = SQLContext(sc)"
   ]
  },
  {
   "cell_type": "markdown",
   "metadata": {},
   "source": [
    "## read in json files and show"
   ]
  },
  {
   "cell_type": "code",
   "execution_count": 5,
   "metadata": {},
   "outputs": [],
   "source": [
    "business = mySpark.read.json('yelp_dataset/yelp_academic_dataset_business.json')"
   ]
  },
  {
   "cell_type": "code",
   "execution_count": 6,
   "metadata": {},
   "outputs": [],
   "source": [
    "review = mySpark.read.json('yelp_dataset/yelp_academic_dataset_review.json')"
   ]
  },
  {
   "cell_type": "code",
   "execution_count": 7,
   "metadata": {},
   "outputs": [],
   "source": [
    "review2 = review.withColumnRenamed('stars', 'review_stars')"
   ]
  },
  {
   "cell_type": "code",
   "execution_count": 8,
   "metadata": {},
   "outputs": [],
   "source": [
    "user = mySpark.read.json('yelp_dataset/yelp_academic_dataset_user.json')"
   ]
  },
  {
   "cell_type": "code",
   "execution_count": 9,
   "metadata": {},
   "outputs": [],
   "source": [
    "#review.show()\n",
    "#review2.show()\n",
    "#user.show()"
   ]
  },
  {
   "cell_type": "code",
   "execution_count": 10,
   "metadata": {},
   "outputs": [],
   "source": [
    "tip = mySpark.read.json('yelp_dataset/yelp_academic_dataset_tip.json')"
   ]
  },
  {
   "cell_type": "code",
   "execution_count": 11,
   "metadata": {},
   "outputs": [],
   "source": [
    "#tip.show()"
   ]
  },
  {
   "cell_type": "code",
   "execution_count": 12,
   "metadata": {},
   "outputs": [],
   "source": [
    "checkin = mySpark.read.json('yelp_dataset/yelp_academic_dataset_checkin.json')"
   ]
  },
  {
   "cell_type": "code",
   "execution_count": 13,
   "metadata": {},
   "outputs": [],
   "source": [
    "#business.show()"
   ]
  },
  {
   "cell_type": "markdown",
   "metadata": {},
   "source": [
    "## create views"
   ]
  },
  {
   "cell_type": "code",
   "execution_count": 14,
   "metadata": {},
   "outputs": [
    {
     "name": "stdout",
     "output_type": "stream",
     "text": [
      "+--------------------+--------------------+--------------------+--------------------+----------+--------------------+-------+----------+------------+--------------------+-----------+------------+-----+-----+\n",
      "|             address|          attributes|         business_id|          categories|      city|               hours|is_open|  latitude|   longitude|                name|postal_code|review_count|stars|state|\n",
      "+--------------------+--------------------+--------------------+--------------------+----------+--------------------+-------+----------+------------+--------------------+-----------+------------+-----+-----+\n",
      "|     10913 Bailey Rd|[,,,,,,, True,, T...|f9NumwFMBDn751xgF...|Active Life, Gun/...| Cornelius|[11:0-20:0, 10:0-...|      1|35.4627242| -80.8526119|The Range At Lake...|      28031|          36|  3.5|   NC|\n",
      "|8880 E Via Linda,...|[,,,,,,,,,,, True...|Yzvjg0SayhoZgCljU...|Health & Medical,...|Scottsdale|                null|      1|33.5694041|-111.8902637|   Carlos Santo, NMD|      85258|           4|  5.0|   AZ|\n",
      "+--------------------+--------------------+--------------------+--------------------+----------+--------------------+-------+----------+------------+--------------------+-----------+------------+-----+-----+\n",
      "only showing top 2 rows\n",
      "\n"
     ]
    }
   ],
   "source": [
    "business.createOrReplaceTempView('business')\n",
    "business.show(2)"
   ]
  },
  {
   "cell_type": "code",
   "execution_count": 15,
   "metadata": {},
   "outputs": [
    {
     "name": "stdout",
     "output_type": "stream",
     "text": [
      "+--------------------+----+-------------------+-----+--------------------+------------+--------------------+------+--------------------+\n",
      "|         business_id|cool|               date|funny|           review_id|review_stars|                text|useful|             user_id|\n",
      "+--------------------+----+-------------------+-----+--------------------+------------+--------------------+------+--------------------+\n",
      "|-MhfebM0QIsKt87iD...|   0|2015-04-15 05:21:16|    0|xQY8N_XvtGbearJ5X...|         2.0|As someone who ha...|     5|OwjRMXRC0KyPrIlcj...|\n",
      "|lbrU8StCq3yDfr-QM...|   0|2013-12-07 03:16:52|    1|UmFMZ8PyXZTY2Qcwz...|         1.0|I am actually hor...|     1|nIJD_7ZXHq-FX8byP...|\n",
      "+--------------------+----+-------------------+-----+--------------------+------------+--------------------+------+--------------------+\n",
      "only showing top 2 rows\n",
      "\n"
     ]
    }
   ],
   "source": [
    "review2.createOrReplaceTempView('review')\n",
    "review2.show(2)"
   ]
  },
  {
   "cell_type": "code",
   "execution_count": 16,
   "metadata": {},
   "outputs": [
    {
     "name": "stdout",
     "output_type": "stream",
     "text": [
      "+-------------+---------------+---------------+----------------+--------------+---------------+---------------+---------------+-----------------+----------------+------------------+-----------------+----+--------------------+----+--------------------+-----+--------+------------+------+--------------------+-------------------+\n",
      "|average_stars|compliment_cool|compliment_cute|compliment_funny|compliment_hot|compliment_list|compliment_more|compliment_note|compliment_photos|compliment_plain|compliment_profile|compliment_writer|cool|               elite|fans|             friends|funny|    name|review_count|useful|             user_id|      yelping_since|\n",
      "+-------------+---------------+---------------+----------------+--------------+---------------+---------------+---------------+-----------------+----------------+------------------+-----------------+----+--------------------+----+--------------------+-----+--------+------------+------+--------------------+-------------------+\n",
      "|         3.57|             22|              0|              22|             3|              1|              2|             11|                0|              15|                 1|               10| 227|                    |  14|oeMvJh94PiGQnx_6G...|  225|  Rafael|         553|   628|ntlvfPzc8eglqvk92...|2007-07-06 03:27:11|\n",
      "|         3.84|             63|              2|              63|            36|              1|              4|             33|                5|              37|                 5|               21| 400|2008,2009,2010,20...|  27|ly7EnE8leJmyqyePV...|  316|Michelle|         564|   790|FOBRPlBHa3WPHFB5q...|2008-04-28 01:29:25|\n",
      "+-------------+---------------+---------------+----------------+--------------+---------------+---------------+---------------+-----------------+----------------+------------------+-----------------+----+--------------------+----+--------------------+-----+--------+------------+------+--------------------+-------------------+\n",
      "only showing top 2 rows\n",
      "\n"
     ]
    }
   ],
   "source": [
    "user.createOrReplaceTempView('user')\n",
    "user.show(2)"
   ]
  },
  {
   "cell_type": "code",
   "execution_count": 17,
   "metadata": {},
   "outputs": [
    {
     "name": "stdout",
     "output_type": "stream",
     "text": [
      "+--------------------+----------------+-------------------+--------------------+--------------------+\n",
      "|         business_id|compliment_count|               date|                text|             user_id|\n",
      "+--------------------+----------------+-------------------+--------------------+--------------------+\n",
      "|UYX5zL_Xj9WEc_Wp-...|               0|2013-11-26 18:20:08|Here for a quick mtg|hf27xTME3EiCp6NL6...|\n",
      "|Ch3HkwQYv1YKw_FO0...|               0|2014-06-15 22:26:45|Cucumber strawber...|uEvusDwoSymbJJ0au...|\n",
      "+--------------------+----------------+-------------------+--------------------+--------------------+\n",
      "only showing top 2 rows\n",
      "\n"
     ]
    }
   ],
   "source": [
    "tip.createOrReplaceTempView('tip')\n",
    "tip.show(2)"
   ]
  },
  {
   "cell_type": "code",
   "execution_count": 18,
   "metadata": {},
   "outputs": [
    {
     "name": "stdout",
     "output_type": "stream",
     "text": [
      "+--------------------+--------------------+\n",
      "|         business_id|                date|\n",
      "+--------------------+--------------------+\n",
      "|--1UhMGODdWsrMast...|2016-04-26 19:49:...|\n",
      "|--6MefnULPED_I942...|2011-06-04 18:22:...|\n",
      "+--------------------+--------------------+\n",
      "only showing top 2 rows\n",
      "\n"
     ]
    }
   ],
   "source": [
    "checkin.createOrReplaceTempView('checkin')\n",
    "checkin.show(2)"
   ]
  },
  {
   "cell_type": "markdown",
   "metadata": {},
   "source": [
    "## subset data"
   ]
  },
  {
   "cell_type": "code",
   "execution_count": 19,
   "metadata": {},
   "outputs": [],
   "source": [
    "restaurant_subset = mySpark.sql(\"SELECT * FROM business WHERE (categories LIKE'%Restaurants%' or categories LIKE  '%Restaurant%' or categories LIKE '%Cafes%' or categories LIKE '%Bakeries%' or categories LIKE '%Bars%' or categories LIKE '%Desserts%' or categories LIKE '%Coffee & Tea%' or categories LIKE '%Juice Bars & Smoothies%' or categories LIKE '%Food Trucks%' or categories LIKE '%Caterers%' or categories LIKE '%Coffee Roasteries%' or categories LIKE '%Delicatessen%' or categories LIKE '%Deli%')\")"
   ]
  },
  {
   "cell_type": "code",
   "execution_count": 20,
   "metadata": {},
   "outputs": [],
   "source": [
    "restaurant_subset.createOrReplaceTempView('restaurant_subset')"
   ]
  },
  {
   "cell_type": "code",
   "execution_count": 21,
   "metadata": {},
   "outputs": [
    {
     "name": "stdout",
     "output_type": "stream",
     "text": [
      "+-----------------+--------------------+--------------------+--------------------+---------+--------------------+-------+-------------+--------------+--------------------+-----------+------------+-----+-----+\n",
      "|          address|          attributes|         business_id|          categories|     city|               hours|is_open|     latitude|     longitude|                name|postal_code|review_count|stars|state|\n",
      "+-----------------+--------------------+--------------------+--------------------+---------+--------------------+-------+-------------+--------------+--------------------+-----------+------------+-----+-----+\n",
      "|   404 E Green St|[,, 'none',,,,, F...|pQeaRpvuhoEqudo3u...|Ethnic Food, Food...|Champaign|[11:30-14:30, 11:...|      1|   40.1104457|   -88.2330726| The Empanadas House|      61820|           5|  4.5|   IL|\n",
      "|2831 Parmenter St|[,,,,,,, True,, T...|M_guz7Dj7hX0evS67...|Desserts, Food, I...|Middleton|[11:0-22:0, 0:0-0...|      1|43.1053100891|-89.5101417974|Chocolate Shoppe ...|      53562|           6|  3.5|   WI|\n",
      "+-----------------+--------------------+--------------------+--------------------+---------+--------------------+-------+-------------+--------------+--------------------+-----------+------------+-----+-----+\n",
      "only showing top 2 rows\n",
      "\n"
     ]
    }
   ],
   "source": [
    "restaurant_subset.show(2)"
   ]
  },
  {
   "cell_type": "code",
   "execution_count": 22,
   "metadata": {},
   "outputs": [],
   "source": [
    "table1 = mySpark.sql(\"SELECT a.*, b.review_id, b.user_id, b.review_stars, b.useful, b.funny, b.cool, b.text, b.date, c.business_checkin_dates from (select * from restaurant_subset) as a left join (select * from review) as b on (a.business_id = b.business_id) left join (select business_id, date as business_checkin_dates from checkin) as c on (a.business_id = c.business_id)\")"
   ]
  },
  {
   "cell_type": "code",
   "execution_count": 23,
   "metadata": {},
   "outputs": [],
   "source": [
    "table1.createOrReplaceTempView('table1')"
   ]
  },
  {
   "cell_type": "code",
   "execution_count": 24,
   "metadata": {},
   "outputs": [
    {
     "name": "stdout",
     "output_type": "stream",
     "text": [
      "+--------------------+--------------------+--------------------+--------------------+---------+--------------------+-------+---------+----------+--------------------+-----------+------------+-----+-----+--------------------+--------------------+------------+------+-----+----+--------------------+-------------------+----------------------+\n",
      "|             address|          attributes|         business_id|          categories|     city|               hours|is_open| latitude| longitude|                name|postal_code|review_count|stars|state|           review_id|             user_id|review_stars|useful|funny|cool|                text|               date|business_checkin_dates|\n",
      "+--------------------+--------------------+--------------------+--------------------+---------+--------------------+-------+---------+----------+--------------------+-----------+------------+-----+-----+--------------------+--------------------+------------+------+-----+----+--------------------+-------------------+----------------------+\n",
      "|3355 Las Vegas Bl...|[,, 'full_bar', {...|--9e1ONYQuAa-CB_R...|Seafood, Cajun/Cr...|Las Vegas|[17:0-22:30, 17:0...|      1|36.123183|-115.16919|Delmonico Steakhouse|      89109|        1759|  4.0|   NV|tTD3wegtsiHOjVTLg...|joe4i-lcCFd2wViA2...|         5.0|     0|    0|   0|On yelp 5 stars =...|2018-05-08 16:39:25|  2010-02-08 05:56:...|\n",
      "|3355 Las Vegas Bl...|[,, 'full_bar', {...|--9e1ONYQuAa-CB_R...|Seafood, Cajun/Cr...|Las Vegas|[17:0-22:30, 17:0...|      1|36.123183|-115.16919|Delmonico Steakhouse|      89109|        1759|  4.0|   NV|4Ph6dJlfjDtH3LBGR...|WUAidypEtNEpL8kJ3...|         5.0|     0|    0|   0|I ate the duck an...|2012-10-08 13:28:59|  2010-02-08 05:56:...|\n",
      "+--------------------+--------------------+--------------------+--------------------+---------+--------------------+-------+---------+----------+--------------------+-----------+------------+-----+-----+--------------------+--------------------+------------+------+-----+----+--------------------+-------------------+----------------------+\n",
      "only showing top 2 rows\n",
      "\n"
     ]
    }
   ],
   "source": [
    "table1.show(2)"
   ]
  },
  {
   "cell_type": "code",
   "execution_count": 25,
   "metadata": {},
   "outputs": [],
   "source": [
    "#had to quote field names"
   ]
  },
  {
   "cell_type": "code",
   "execution_count": 26,
   "metadata": {},
   "outputs": [],
   "source": [
    "#table2 = mySpark.sql(\"SELECT a.*, b.user_name, b.user_review_count, b.user_yelping_since, b.user_useful, b.user_funny, b.user_cool, b.user_elite, b.user_friends, b.user_fans, b.user_average_stars, b.user_compliment_hot, b.user_compliment_more, b.user_compliment_profile, b.user_compliment_cute, b.user_compliment_list, b.user_compliment_note, b.user_compliment_plain, b.user_compliment_cool, b.user_compliment_funny, b.user_compliment_writer, b.user_compliment_photos from (select * from table1) as a left join (select 'user_id', 'user_name', 'user_review_count', 'user_yelping_since', 'user_useful', 'user_funny', 'user_cool', 'user_elite', 'user_friends', 'user_fans', 'user_average_stars', 'user_compliment_hot', 'user_compliment_more', 'user_compliment_profile', 'user_compliment_cute', 'user_compliment_list', 'user_compliment_note', 'user_compliment_plain', 'user_compliment_cool', 'user_compliment_funny', 'user_compliment_writer', 'user_compliment_photos' from user) as b on (a.user_id = b.user_id)\")"
   ]
  },
  {
   "cell_type": "code",
   "execution_count": 27,
   "metadata": {},
   "outputs": [],
   "source": [
    "table2 = mySpark.sql(\"SELECT a.*, 'b.user_name', 'b.user_review_count', 'b.user_yelping_since', 'b.user_useful', 'b.user_funny', 'b.user_cool', 'b.user_elite', 'b.user_friends', 'b.user_fans', 'b.user_average_stars', 'b.user_compliment_hot', 'b.user_compliment_more', 'b.user_compliment_profile', 'b.user_compliment_cute', 'b.user_compliment_list', 'b.user_compliment_note', 'b.user_compliment_plain', 'b.user_compliment_cool', 'b.user_compliment_funny', 'b.user_compliment_writer', 'b.user_compliment_photos' from (select * from table1) as a left join (select 'user_id', 'user_name', 'user_review_count', 'user_yelping_since', 'user_useful', 'user_funny', 'user_cool', 'user_elite', 'user_friends', 'user_fans', 'user_average_stars', 'user_compliment_hot', 'user_compliment_more', 'user_compliment_profile', 'user_compliment_cute', 'user_compliment_list', 'user_compliment_note', 'user_compliment_plain', 'user_compliment_cool', 'user_compliment_funny', 'user_compliment_writer', 'user_compliment_photos' from user) as b on (a.user_id = b.user_id)\")"
   ]
  },
  {
   "cell_type": "code",
   "execution_count": 28,
   "metadata": {},
   "outputs": [],
   "source": [
    "table2.createOrReplaceTempView('table2')"
   ]
  },
  {
   "cell_type": "code",
   "execution_count": 29,
   "metadata": {},
   "outputs": [
    {
     "name": "stdout",
     "output_type": "stream",
     "text": [
      "+--------------------+--------------------+--------------------+--------------------+---------+--------------------+-------+---------+----------+--------------------+-----------+------------+-----+-----+--------------------+--------------------+------------+------+-----+----+--------------------+-------------------+----------------------+-----------+-------------------+--------------------+-------------+------------+-----------+------------+--------------+-----------+--------------------+---------------------+----------------------+-------------------------+----------------------+----------------------+----------------------+-----------------------+----------------------+-----------------------+------------------------+------------------------+\n",
      "|             address|          attributes|         business_id|          categories|     city|               hours|is_open| latitude| longitude|                name|postal_code|review_count|stars|state|           review_id|             user_id|review_stars|useful|funny|cool|                text|               date|business_checkin_dates|b.user_name|b.user_review_count|b.user_yelping_since|b.user_useful|b.user_funny|b.user_cool|b.user_elite|b.user_friends|b.user_fans|b.user_average_stars|b.user_compliment_hot|b.user_compliment_more|b.user_compliment_profile|b.user_compliment_cute|b.user_compliment_list|b.user_compliment_note|b.user_compliment_plain|b.user_compliment_cool|b.user_compliment_funny|b.user_compliment_writer|b.user_compliment_photos|\n",
      "+--------------------+--------------------+--------------------+--------------------+---------+--------------------+-------+---------+----------+--------------------+-----------+------------+-----+-----+--------------------+--------------------+------------+------+-----+----+--------------------+-------------------+----------------------+-----------+-------------------+--------------------+-------------+------------+-----------+------------+--------------+-----------+--------------------+---------------------+----------------------+-------------------------+----------------------+----------------------+----------------------+-----------------------+----------------------+-----------------------+------------------------+------------------------+\n",
      "|3355 Las Vegas Bl...|[,, 'full_bar', {...|--9e1ONYQuAa-CB_R...|Seafood, Cajun/Cr...|Las Vegas|[17:0-22:30, 17:0...|      1|36.123183|-115.16919|Delmonico Steakhouse|      89109|        1759|  4.0|   NV|tTD3wegtsiHOjVTLg...|joe4i-lcCFd2wViA2...|         5.0|     0|    0|   0|On yelp 5 stars =...|2018-05-08 16:39:25|  2010-02-08 05:56:...|b.user_name|b.user_review_count|b.user_yelping_since|b.user_useful|b.user_funny|b.user_cool|b.user_elite|b.user_friends|b.user_fans|b.user_average_stars| b.user_compliment...|  b.user_compliment...|     b.user_compliment...|  b.user_compliment...|  b.user_compliment...|  b.user_compliment...|   b.user_compliment...|  b.user_compliment...|   b.user_compliment...|    b.user_compliment...|    b.user_compliment...|\n",
      "|3355 Las Vegas Bl...|[,, 'full_bar', {...|--9e1ONYQuAa-CB_R...|Seafood, Cajun/Cr...|Las Vegas|[17:0-22:30, 17:0...|      1|36.123183|-115.16919|Delmonico Steakhouse|      89109|        1759|  4.0|   NV|4Ph6dJlfjDtH3LBGR...|WUAidypEtNEpL8kJ3...|         5.0|     0|    0|   0|I ate the duck an...|2012-10-08 13:28:59|  2010-02-08 05:56:...|b.user_name|b.user_review_count|b.user_yelping_since|b.user_useful|b.user_funny|b.user_cool|b.user_elite|b.user_friends|b.user_fans|b.user_average_stars| b.user_compliment...|  b.user_compliment...|     b.user_compliment...|  b.user_compliment...|  b.user_compliment...|  b.user_compliment...|   b.user_compliment...|  b.user_compliment...|   b.user_compliment...|    b.user_compliment...|    b.user_compliment...|\n",
      "+--------------------+--------------------+--------------------+--------------------+---------+--------------------+-------+---------+----------+--------------------+-----------+------------+-----+-----+--------------------+--------------------+------------+------+-----+----+--------------------+-------------------+----------------------+-----------+-------------------+--------------------+-------------+------------+-----------+------------+--------------+-----------+--------------------+---------------------+----------------------+-------------------------+----------------------+----------------------+----------------------+-----------------------+----------------------+-----------------------+------------------------+------------------------+\n",
      "only showing top 2 rows\n",
      "\n"
     ]
    }
   ],
   "source": [
    "table2.show(2)"
   ]
  },
  {
   "cell_type": "code",
   "execution_count": 31,
   "metadata": {},
   "outputs": [],
   "source": [
    "#table2.write.csv('table2_restaurant_subset.csv')\n",
    "#table2.coalesce(1).write.format('json').save('restaurant_subset_table2.json')"
   ]
  },
  {
   "cell_type": "code",
   "execution_count": 33,
   "metadata": {},
   "outputs": [],
   "source": [
    "table3 = mySpark.sql(\"SELECT a.*, b.tip_text, b.tip_date, b.tip_compliment_count from (select * from table2) as a left join (select user_id, business_id, text as tip_text, date as tip_date, compliment_count as tip_compliment_count from tip) as b on (a.business_id = b.business_id and a.user_id = b.user_id)\")"
   ]
  },
  {
   "cell_type": "code",
   "execution_count": 34,
   "metadata": {},
   "outputs": [],
   "source": [
    "table3.createOrReplaceTempView('table3')\n",
    "#MY LAPTOP COULD NOT HANDLE THIS FINAL JOIN"
   ]
  },
  {
   "cell_type": "code",
   "execution_count": 35,
   "metadata": {},
   "outputs": [],
   "source": [
    "table3.show(2)"
   ]
  },
  {
   "cell_type": "code",
   "execution_count": 32,
   "metadata": {},
   "outputs": [],
   "source": [
    "#table3.write.csv('full_restaurant_subset.csv')\n",
    "#table3.coalesce(1).write.format('json').save('full_restaurant_subset.json')"
   ]
  },
  {
   "cell_type": "code",
   "execution_count": null,
   "metadata": {},
   "outputs": [],
   "source": []
  }
 ],
 "metadata": {
  "kernelspec": {
   "display_name": "Python 3",
   "language": "python",
   "name": "python3"
  },
  "language_info": {
   "codemirror_mode": {
    "name": "ipython",
    "version": 3
   },
   "file_extension": ".py",
   "mimetype": "text/x-python",
   "name": "python",
   "nbconvert_exporter": "python",
   "pygments_lexer": "ipython3",
   "version": "3.8.6rc1"
  }
 },
 "nbformat": 4,
 "nbformat_minor": 2
}
